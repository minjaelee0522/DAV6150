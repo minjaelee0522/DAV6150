{
 "cells": [
  {
   "cell_type": "markdown",
   "id": "66085a60",
   "metadata": {},
   "source": [
    "# Introduction\n",
    "The core problem we are addressing involves predicting whether an existing customer of a large insurance company will purchase an additional insurance product. This prediction is crucial for the company to enhance its customer retention and sales strategies. The dataset provided contains over 14,000 observations and includes one response variable (TARGET) and 14 explanatory variables. These variables offer insights into the customers' demographics, their relationship with the insurance company, and their purchasing behavior concerning two other products.\n",
    "\n",
    "To tackle this problem, We will follow these steps:\n",
    "\n",
    "1. Exploratory Data Analysis (EDA): We'll begin by thoroughly examining the dataset to understand the distribution and relationships of the variables. This step will help identify trends, outliers, and patterns that can influence the model's performance. We'll visualize the data to get a clearer picture of the underlying structures and relationships.\n",
    "\n",
    "2. Data Preparation: Based on the insights gained from EDA, we will clean and prepare the data for modeling. This includes handling missing values, encoding categorical variables, and potentially scaling numerical variables. We'll also consider creating new features if they can provide additional value to the models.\n",
    "\n",
    "3. Feature Selection: We'll identify the most relevant features that contribute to the prediction of the target variable. This process might involve statistical tests, selection techniques, and considering the business context to ensure that the features included in the model are meaningful and justifiable.\n",
    "\n",
    "4. Model Building: We will construct several binary logistic regression models, varying the included features and possibly the regularization techniques to improve the model's generalizability. Each model will be trained and tested on the dataset, ensuring that we maintain a robust methodology to avoid overfitting.\n",
    "\n",
    "5. Model Evaluation: We'll assess each model's performance using appropriate metrics, such as accuracy, precision, recall, and the ROC-AUC score. This evaluation will help us understand the strengths and weaknesses of each model in the context of our specific problem.\n",
    "\n",
    "6. Model Selection: After comparing the models, we will select the one that offers the best balance between performance and interpretability, ensuring that the chosen model aligns with the business objectives and can be explained in a business context.\n",
    "\n",
    "7. Conclusion: We will summarize the findings, discuss the implications of the chosen model, and suggest potential strategies for the insurance company to implement based on the model's predictions.\n",
    "\n",
    "By following these steps, we aim to develop a reliable and interpretable model that the insurance company can use to target their sales efforts more effectively, thereby potentially increasing their customer retention and the uptake of additional insurance products."
   ]
  },
  {
   "cell_type": "code",
   "execution_count": 2,
   "id": "e67c35af",
   "metadata": {},
   "outputs": [],
   "source": [
    "# Libaries import\n",
    "import numpy as np # linear algebra\n",
    "import pandas as pd # data processing, CSV file I/O (e.g. pd.read_csv)\n",
    "import matplotlib.pyplot as plt\n",
    "import seaborn as sns\n",
    "from copy import copy"
   ]
  },
  {
   "cell_type": "code",
   "execution_count": null,
   "id": "4e6e78a5",
   "metadata": {},
   "outputs": [],
   "source": []
  }
 ],
 "metadata": {
  "kernelspec": {
   "display_name": "Python 3 (ipykernel)",
   "language": "python",
   "name": "python3"
  },
  "language_info": {
   "codemirror_mode": {
    "name": "ipython",
    "version": 3
   },
   "file_extension": ".py",
   "mimetype": "text/x-python",
   "name": "python",
   "nbconvert_exporter": "python",
   "pygments_lexer": "ipython3",
   "version": "3.9.7"
  }
 },
 "nbformat": 4,
 "nbformat_minor": 5
}
