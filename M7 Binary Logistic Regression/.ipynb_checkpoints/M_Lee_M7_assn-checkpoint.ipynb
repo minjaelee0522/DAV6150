{
 "cells": [
  {
   "cell_type": "markdown",
   "id": "684eb45b",
   "metadata": {},
   "source": [
    "# Introduction\n",
    "The core objective of this assignment is to develop a predictive model for a large insurance company, aiming to forecast whether an existing customer will purchase an additional insurance product. This task is pivotal for the company as it seeks to enhance its customer retention and sales strategies. The dataset provided encompasses over 14,000 observations with one response variable (indicating the purchase of the new insurance product) and 14 explanatory variables, offering insights into customers' demographics, purchasing behavior, and interactions with other products.\n",
    "\n",
    "To tackle this problem, We will follow these steps:\n",
    "\n",
    "1. **Exploratory Data Analysis (EDA)**: Initially, we will conduct a thorough EDA to understand the dataset's characteristics, distributions, and potential correlations between variables. This step will include visualizing the data, identifying outliers, and understanding the relationship between independent variables and the target variable.\n",
    "\n",
    "2. **Data Preparation**: Based on insights from the EDA, we will clean and preprocess the data, which may involve handling missing values, encoding categorical variables, and normalizing numerical variables. We'll also consider creating new features if relevant patterns emerge during the EDA.\n",
    "\n",
    "3. **Feature Selection**: To enhance the model's performance, we'll apply techniques to select the most relevant features for predicting the target variable. This may involve statistical methods, domain knowledge, or model-based selection methods.\n",
    "\n",
    "4. **Model Building**: We will construct a series of binary logistic regression models, adjusting the features included and the model parameters to optimize performance. Each model's results will be carefully analyzed and compared.\n",
    "\n",
    "5. **Model Evaluation**: Using appropriate metrics (such as accuracy, precision, recall, and the AUC-ROC curve), we will evaluate each model's performance. This step is crucial to ensure our model is not only accurate but also reliable in various scenarios.\n",
    "\n",
    "6. **Model Selection**: After comparing the models, we will select the one that shows the best balance between performance and complexity. The chosen model should demonstrate robustness and generalizability to unseen data.\n",
    "\n",
    "7. **Conclusion**: We will summarize the findings, discuss the implications of the chosen model, and suggest potential strategies for the insurance company to implement based on the model's predictions.\n",
    "\n",
    "By following these steps, we aim to develop a reliable and interpretable model that the insurance company can use to target their sales efforts more effectively, thereby potentially increasing their customer retention and the uptake of additional insurance products."
   ]
  },
  {
   "cell_type": "code",
   "execution_count": 1,
   "id": "3e701403",
   "metadata": {},
   "outputs": [],
   "source": [
    "# Libaries import\n",
    "import numpy as np # linear algebra\n",
    "import pandas as pd # data processing, CSV file I/O (e.g. pd.read_csv)\n",
    "import matplotlib.pyplot as plt\n",
    "import seaborn as sns\n",
    "from copy import copy"
   ]
  },
  {
   "cell_type": "markdown",
   "id": "c8acdf9e",
   "metadata": {},
   "source": [
    "# Data Load"
   ]
  },
  {
   "cell_type": "code",
   "execution_count": 2,
   "id": "a39c1f76",
   "metadata": {
    "scrolled": true
   },
   "outputs": [
    {
     "data": {
      "text/html": [
       "<div>\n",
       "<style scoped>\n",
       "    .dataframe tbody tr th:only-of-type {\n",
       "        vertical-align: middle;\n",
       "    }\n",
       "\n",
       "    .dataframe tbody tr th {\n",
       "        vertical-align: top;\n",
       "    }\n",
       "\n",
       "    .dataframe thead th {\n",
       "        text-align: right;\n",
       "    }\n",
       "</style>\n",
       "<table border=\"1\" class=\"dataframe\">\n",
       "  <thead>\n",
       "    <tr style=\"text-align: right;\">\n",
       "      <th></th>\n",
       "      <th>TARGET</th>\n",
       "      <th>loyalty</th>\n",
       "      <th>ID</th>\n",
       "      <th>age</th>\n",
       "      <th>city</th>\n",
       "      <th>LOR</th>\n",
       "      <th>prod_A</th>\n",
       "      <th>type_A</th>\n",
       "      <th>type_B</th>\n",
       "      <th>prod_B</th>\n",
       "      <th>turnover_A</th>\n",
       "      <th>turnover_B</th>\n",
       "      <th>contract</th>\n",
       "      <th>age_P</th>\n",
       "      <th>lor_M</th>\n",
       "    </tr>\n",
       "  </thead>\n",
       "  <tbody>\n",
       "    <tr>\n",
       "      <th>0</th>\n",
       "      <td>Y</td>\n",
       "      <td>99</td>\n",
       "      <td>77</td>\n",
       "      <td>66</td>\n",
       "      <td>2</td>\n",
       "      <td>0</td>\n",
       "      <td>0</td>\n",
       "      <td>0</td>\n",
       "      <td>0</td>\n",
       "      <td>0</td>\n",
       "      <td>333.561114</td>\n",
       "      <td>264.721010</td>\n",
       "      <td>2</td>\n",
       "      <td>66</td>\n",
       "      <td>3</td>\n",
       "    </tr>\n",
       "    <tr>\n",
       "      <th>1</th>\n",
       "      <td>Y</td>\n",
       "      <td>1</td>\n",
       "      <td>159</td>\n",
       "      <td>45</td>\n",
       "      <td>2</td>\n",
       "      <td>3</td>\n",
       "      <td>1</td>\n",
       "      <td>3</td>\n",
       "      <td>3</td>\n",
       "      <td>1</td>\n",
       "      <td>394.735699</td>\n",
       "      <td>284.904978</td>\n",
       "      <td>2</td>\n",
       "      <td>45</td>\n",
       "      <td>39</td>\n",
       "    </tr>\n",
       "    <tr>\n",
       "      <th>2</th>\n",
       "      <td>Y</td>\n",
       "      <td>1</td>\n",
       "      <td>220</td>\n",
       "      <td>42</td>\n",
       "      <td>2</td>\n",
       "      <td>2</td>\n",
       "      <td>1</td>\n",
       "      <td>3</td>\n",
       "      <td>6</td>\n",
       "      <td>1</td>\n",
       "      <td>342.180990</td>\n",
       "      <td>1175.589721</td>\n",
       "      <td>2</td>\n",
       "      <td>42</td>\n",
       "      <td>27</td>\n",
       "    </tr>\n",
       "    <tr>\n",
       "      <th>3</th>\n",
       "      <td>Y</td>\n",
       "      <td>99</td>\n",
       "      <td>303</td>\n",
       "      <td>31</td>\n",
       "      <td>2</td>\n",
       "      <td>0</td>\n",
       "      <td>0</td>\n",
       "      <td>0</td>\n",
       "      <td>0</td>\n",
       "      <td>0</td>\n",
       "      <td>453.757916</td>\n",
       "      <td>242.341754</td>\n",
       "      <td>2</td>\n",
       "      <td>31</td>\n",
       "      <td>3</td>\n",
       "    </tr>\n",
       "    <tr>\n",
       "      <th>4</th>\n",
       "      <td>Y</td>\n",
       "      <td>99</td>\n",
       "      <td>306</td>\n",
       "      <td>62</td>\n",
       "      <td>2</td>\n",
       "      <td>0</td>\n",
       "      <td>0</td>\n",
       "      <td>0</td>\n",
       "      <td>0</td>\n",
       "      <td>0</td>\n",
       "      <td>384.577469</td>\n",
       "      <td>287.008370</td>\n",
       "      <td>2</td>\n",
       "      <td>62</td>\n",
       "      <td>3</td>\n",
       "    </tr>\n",
       "  </tbody>\n",
       "</table>\n",
       "</div>"
      ],
      "text/plain": [
       "  TARGET  loyalty   ID  age  city  LOR  prod_A  type_A  type_B  prod_B  \\\n",
       "0      Y       99   77   66     2    0       0       0       0       0   \n",
       "1      Y        1  159   45     2    3       1       3       3       1   \n",
       "2      Y        1  220   42     2    2       1       3       6       1   \n",
       "3      Y       99  303   31     2    0       0       0       0       0   \n",
       "4      Y       99  306   62     2    0       0       0       0       0   \n",
       "\n",
       "   turnover_A   turnover_B  contract  age_P  lor_M  \n",
       "0  333.561114   264.721010         2     66      3  \n",
       "1  394.735699   284.904978         2     45     39  \n",
       "2  342.180990  1175.589721         2     42     27  \n",
       "3  453.757916   242.341754         2     31      3  \n",
       "4  384.577469   287.008370         2     62      3  "
      ]
     },
     "execution_count": 2,
     "metadata": {},
     "output_type": "execute_result"
    }
   ],
   "source": [
    "data = pd.read_csv(\"https://raw.githubusercontent.com/minjaelee0522/DAV6150/master/M7%20Binary%20Logistic%20Regression/M7_Data.csv\")\n",
    "data.head()"
   ]
  },
  {
   "cell_type": "code",
   "execution_count": 3,
   "id": "436893c8",
   "metadata": {},
   "outputs": [
    {
     "data": {
      "text/plain": [
       "(14016, 15)"
      ]
     },
     "execution_count": 3,
     "metadata": {},
     "output_type": "execute_result"
    }
   ],
   "source": [
    "data.shape"
   ]
  },
  {
   "cell_type": "code",
   "execution_count": 4,
   "id": "80db21a7",
   "metadata": {
    "scrolled": true
   },
   "outputs": [
    {
     "name": "stdout",
     "output_type": "stream",
     "text": [
      "<class 'pandas.core.frame.DataFrame'>\n",
      "RangeIndex: 14016 entries, 0 to 14015\n",
      "Data columns (total 15 columns):\n",
      " #   Column      Non-Null Count  Dtype  \n",
      "---  ------      --------------  -----  \n",
      " 0   TARGET      14016 non-null  object \n",
      " 1   loyalty     14016 non-null  int64  \n",
      " 2   ID          14016 non-null  int64  \n",
      " 3   age         14016 non-null  int64  \n",
      " 4   city        14016 non-null  int64  \n",
      " 5   LOR         14016 non-null  int64  \n",
      " 6   prod_A      14016 non-null  int64  \n",
      " 7   type_A      14016 non-null  int64  \n",
      " 8   type_B      14016 non-null  int64  \n",
      " 9   prod_B      14016 non-null  int64  \n",
      " 10  turnover_A  14016 non-null  float64\n",
      " 11  turnover_B  14016 non-null  float64\n",
      " 12  contract    14016 non-null  int64  \n",
      " 13  age_P       14016 non-null  int64  \n",
      " 14  lor_M       14016 non-null  int64  \n",
      "dtypes: float64(2), int64(12), object(1)\n",
      "memory usage: 1.6+ MB\n"
     ]
    },
    {
     "data": {
      "text/plain": [
       "(None,\n",
       "             loyalty             ID           age           city           LOR  \\\n",
       " count  14016.000000   14016.000000  14016.000000   14016.000000  14016.000000   \n",
       " mean      50.381778   37672.440068     35.882920    -710.950128      0.926299   \n",
       " std       48.471790   44855.639209     12.974634   26702.329184      0.965212   \n",
       " min        0.000000       1.000000      5.000000 -999999.000000      0.000000   \n",
       " 25%        2.000000    6741.500000     25.000000       2.000000      0.000000   \n",
       " 50%        3.000000   13514.500000     33.000000       2.000000      1.000000   \n",
       " 75%       99.000000   62738.000000     43.000000       2.000000      1.000000   \n",
       " max       99.000000  151811.000000    102.000000     235.000000      6.000000   \n",
       " \n",
       "              prod_A        type_A        type_B        prod_B    turnover_A  \\\n",
       " count  14016.000000  14016.000000  14016.000000  14016.000000  14016.000000   \n",
       " mean       0.533818      1.607877      1.918878      0.599458    379.161320   \n",
       " std        0.498873      1.508991      1.686038      0.490026     92.612207   \n",
       " min        0.000000      0.000000      0.000000      0.000000    300.095909   \n",
       " 25%        0.000000      0.000000      0.000000      0.000000    334.919412   \n",
       " 50%        1.000000      3.000000      3.000000      1.000000    367.891493   \n",
       " 75%        1.000000      3.000000      3.000000      1.000000    399.744924   \n",
       " max        1.000000      6.000000      9.000000      1.000000   5568.784139   \n",
       " \n",
       "          turnover_B  contract         age_P         lor_M  \n",
       " count  14016.000000   14016.0  14016.000000  14016.000000  \n",
       " mean     328.628207       2.0     35.882920     14.115582  \n",
       " std      475.616525       0.0     12.974634     11.582550  \n",
       " min      191.962852       2.0      5.000000      3.000000  \n",
       " 25%      219.406925       2.0     25.000000      3.000000  \n",
       " 50%      237.656757       2.0     33.000000     15.000000  \n",
       " 75%      264.131538       2.0     43.000000     15.000000  \n",
       " max    12249.084770       2.0    102.000000     75.000000  )"
      ]
     },
     "execution_count": 4,
     "metadata": {},
     "output_type": "execute_result"
    }
   ],
   "source": [
    "# Display the first few rows to understand the data structure\n",
    "data.info(), data.describe()"
   ]
  },
  {
   "cell_type": "markdown",
   "id": "4a85cfaf",
   "metadata": {},
   "source": [
    "The dataset consists of 14,016 entries and 15 columns. Here's an initial analysis based on the dataset's overview:\n",
    "\n",
    "1. Target Variable: The 'TARGET' column, indicating whether a customer purchased an additional insurance product ('Y' for yes, '0' for no), is the dependent variable we aim to predict.\n",
    "\n",
    "2. Features: The dataset includes various features like loyalty level, age, city, length of relationship (LOR), product-related information (e.g., whether products A or B were bought, their types, and turnovers), contract type, partner's age (age_P), and length of relationship in months (lor_M).\n",
    "\n",
    "3. Data Types: The features are primarily numeric (int64 and float64), except for the 'TARGET' variable, which is an object type and likely needs to be encoded for modeling.\n",
    "\n",
    "4. Missing Values: There appear to be no missing values in any of the columns, which simplifies the data preparation phase.\n",
    "\n",
    "5. Statistical Summary: The descriptive statistics reveal some initial insights, such as the range of ages, loyalty levels, turnover amounts, etc. Notably, the 'city' column has a minimum value of -999999, which may indicate missing or outlier data that needs to be addressed."
   ]
  },
  {
   "cell_type": "code",
   "execution_count": 5,
   "id": "4f1a3e6f",
   "metadata": {},
   "outputs": [
    {
     "name": "stdout",
     "output_type": "stream",
     "text": [
      "TARGET        0\n",
      "loyalty       0\n",
      "ID            0\n",
      "age           0\n",
      "city          0\n",
      "LOR           0\n",
      "prod_A        0\n",
      "type_A        0\n",
      "type_B        0\n",
      "prod_B        0\n",
      "turnover_A    0\n",
      "turnover_B    0\n",
      "contract      0\n",
      "age_P         0\n",
      "lor_M         0\n",
      "dtype: int64\n"
     ]
    }
   ],
   "source": [
    "# Identify missing values across the dataset\n",
    "missing_values = data.isnull().sum()\n",
    "print(missing_values)"
   ]
  },
  {
   "cell_type": "markdown",
   "id": "8cbf14dc",
   "metadata": {},
   "source": [
    "# 1. Exploratory Data Analysis (EDA)"
   ]
  },
  {
   "cell_type": "markdown",
   "id": "1b157bfc",
   "metadata": {},
   "source": [
    "1. Visualize the Distribution of the 'TARGET' Variable: Understand the balance between the classes.\n",
    "\n",
    "2. Analyze Numerical Features: Use histograms and boxplots to visualize distributions and identify outliers.\n",
    "\n",
    "3. Explore Categorical Features: Examine the 'loyalty', 'prod_A', 'prod_B', 'type_A', and 'type_B' distributions.\n",
    "\n",
    "4. Correlation Analysis: Check the correlation between numerical features and with the target variable to identify potential predictors.\n",
    "\n",
    "5. Feature Engineering: Consider creating new features, such as combining 'age' and 'age_P' or transforming 'LOR' and 'lor_M' for better insights."
   ]
  },
  {
   "cell_type": "code",
   "execution_count": 6,
   "id": "88f63016",
   "metadata": {
    "scrolled": false
   },
   "outputs": [
    {
     "data": {
      "image/png": "[encoded data removed]",
      "text/plain": [
       "<Figure size 432x288 with 1 Axes>"
      ]
     },
     "metadata": {
      "needs_background": "light"
     },
     "output_type": "display_data"
    }
   ],
   "source": [
    "# Convert TARGET to a binary variable for easier analysis\n",
    "data['TARGET'] = data['TARGET'].apply(lambda x: 1 if x == 'Y' else 0)\n",
    "\n",
    "# Visualize the distribution of the 'TARGET' variable\n",
    "plt.figure(figsize=(6, 4))\n",
    "sns.countplot(x='TARGET', data=data)\n",
    "plt.title('Distribution of TARGET Variable')\n",
    "plt.show()"
   ]
  },
  {
   "cell_type": "code",
   "execution_count": 7,
   "id": "2b4983cd",
   "metadata": {},
   "outputs": [
    {
     "data": {
      "text/plain": [
       "0    8000\n",
       "1    6016\n",
       "Name: TARGET, dtype: int64"
      ]
     },
     "execution_count": 7,
     "metadata": {},
     "output_type": "execute_result"
    }
   ],
   "source": [
    "data['TARGET'].value_counts()"
   ]
  },
  {
   "cell_type": "markdown",
   "id": "446dee87",
   "metadata": {},
   "source": [
    "The bar chart shows the distribution of customers by their response to purchasing an additional insurance product, with almost equal counts for those who did not purchase (0) and those who did (1). The similarity in the heights of the bars indicates a balanced dataset, which is beneficial for building a predictive model as it reduces the risk of a biased prediction towards a majority class. This balance allows for more straightforward interpretation of accuracy as a performance metric, since both outcomes are equally represented."
   ]
  },
  {
   "cell_type": "code",
   "execution_count": 8,
   "id": "f74c26f7",
   "metadata": {},
   "outputs": [],
   "source": [
    "numerical_features = ['age', 'age_P', 'LOR', 'lor_M', 'turnover_A', 'turnover_B']"
   ]
  },
  {
   "cell_type": "code",
   "execution_count": 9,
   "id": "c04109de",
   "metadata": {},
   "outputs": [
    {
     "name": "stdout",
     "output_type": "stream",
     "text": [
      "Value counts for loyalty:\n",
      "99    6986\n",
      "3     3069\n",
      "1     2480\n",
      "2     1425\n",
      "0       56\n",
      "Name: loyalty, dtype: int64\n",
      "\n",
      "\n",
      "Value counts for city:\n",
      "2      13720\n",
      "1         28\n",
      "0         26\n",
      "8         21\n",
      "9         20\n",
      "       ...  \n",
      "51         1\n",
      "107        1\n",
      "174        1\n",
      "141        1\n",
      "30         1\n",
      "Name: city, Length: 65, dtype: int64\n",
      "\n",
      "\n",
      "Value counts for prod_A:\n",
      "1    7482\n",
      "0    6534\n",
      "Name: prod_A, dtype: int64\n",
      "\n",
      "\n",
      "Value counts for type_A:\n",
      "3    7452\n",
      "0    6534\n",
      "6      30\n",
      "Name: type_A, dtype: int64\n",
      "\n",
      "\n",
      "Value counts for prod_A:\n",
      "1    7482\n",
      "0    6534\n",
      "Name: prod_A, dtype: int64\n",
      "\n",
      "\n",
      "Value counts for type_B:\n",
      "3    7874\n",
      "0    5614\n",
      "6     493\n",
      "9      35\n",
      "Name: type_B, dtype: int64\n",
      "\n",
      "\n",
      "Value counts for contract:\n",
      "2    14016\n",
      "Name: contract, dtype: int64\n",
      "\n",
      "\n"
     ]
    }
   ],
   "source": [
    "categorical_features = ['loyalty', 'city', 'prod_A', 'type_A', 'prod_A', 'type_B', 'contract']\n",
    "for feature in categorical_features:\n",
    "    print(f\"Value counts for {feature}:\")\n",
    "    print(data[feature].value_counts())\n",
    "    print(\"\\n\")"
   ]
  },
  {
   "cell_type": "code",
   "execution_count": 10,
   "id": "03dadeff",
   "metadata": {},
   "outputs": [
    {
     "data": {
      "text/plain": [
       "array([[<AxesSubplot:title={'center':'age'}>,\n",
       "        <AxesSubplot:title={'center':'age_P'}>,\n",
       "        <AxesSubplot:title={'center':'LOR'}>],\n",
       "       [<AxesSubplot:title={'center':'lor_M'}>,\n",
       "        <AxesSubplot:title={'center':'turnover_A'}>,\n",
       "        <AxesSubplot:title={'center':'turnover_B'}>]], dtype=object)"
      ]
     },
     "execution_count": 10,
     "metadata": {},
     "output_type": "execute_result"
    },
    {
     "data": {
      "image/png": "[encoded data removed]",
      "text/plain": [
       "<Figure size 1080x432 with 6 Axes>"
      ]
     },
     "metadata": {
      "needs_background": "light"
     },
     "output_type": "display_data"
    }
   ],
   "source": [
    "# Visualize the distribution of numerical features\n",
    "data[numerical_features].hist(bins=15, figsize=(15, 6), layout=(2, 3))"
   ]
  },
  {
   "cell_type": "markdown",
   "id": "9337946e",
   "metadata": {},
   "source": [
    "The histograms display the distributions of six numerical features in the dataset. Both 'age' and 'age_P' (age of partner) show right-skewed distributions, indicating a younger customer base with fewer older customers. 'LOR' (Length of Relationship) is heavily skewed towards lower values, suggesting most customers have a shorter relationship with the company. 'lor_M' (Length of Relationship in months) also exhibits a similar skewness towards lower values. The 'turnover_A' and 'turnover_B' features show that most customers have lower turnovers, with few customers having very high turnovers, which are likely outliers."
   ]
  },
  {
   "cell_type": "code",
   "execution_count": 11,
   "id": "5bc08659",
   "metadata": {},
   "outputs": [
    {
     "data": {
      "image/png": "[encoded data removed]",
      "text/plain": [
       "<Figure size 1080x720 with 6 Axes>"
      ]
     },
     "metadata": {
      "needs_background": "light"
     },
     "output_type": "display_data"
    }
   ],
   "source": [
    "# Boxplots for numerical features to identify outliers\n",
    "plt.figure(figsize=(15, 10))\n",
    "for i, col in enumerate(numerical_features, 1):\n",
    "    plt.subplot(2, 3, i)\n",
    "    sns.boxplot(y=col, data=data)\n",
    "    plt.title(f'Boxplot of {col}')\n",
    "\n",
    "plt.tight_layout()\n",
    "plt.show()"
   ]
  },
  {
   "cell_type": "markdown",
   "id": "c370ffbb",
   "metadata": {},
   "source": [
    "The boxplots for 'age' and 'age_P' show a similar distribution with a median around 30-40 years and some outliers at higher ages, suggesting a relatively young customer base with a few older individuals. 'LOR' has a compact interquartile range close to 0, indicating most customers have been with the company for a short time, with a few notable long-term relationships as outliers. 'lor_M' similarly shows customers typically have short-term relationships with the company. 'Turnover_A' and 'Turnover_B' have a large number of outliers indicating that while most customers spend within a lower range, there are exceptions with significantly higher spendings, which could potentially skew the analysis and may need to be addressed."
   ]
  },
  {
   "cell_type": "code",
   "execution_count": 12,
   "id": "e79440de",
   "metadata": {},
   "outputs": [
    {
     "data": {
      "text/html": [
       "<div>\n",
       "<style scoped>\n",
       "    .dataframe tbody tr th:only-of-type {\n",
       "        vertical-align: middle;\n",
       "    }\n",
       "\n",
       "    .dataframe tbody tr th {\n",
       "        vertical-align: top;\n",
       "    }\n",
       "\n",
       "    .dataframe thead th {\n",
       "        text-align: right;\n",
       "    }\n",
       "</style>\n",
       "<table border=\"1\" class=\"dataframe\">\n",
       "  <thead>\n",
       "    <tr style=\"text-align: right;\">\n",
       "      <th></th>\n",
       "      <th>age</th>\n",
       "      <th>age_P</th>\n",
       "      <th>LOR</th>\n",
       "      <th>lor_M</th>\n",
       "      <th>turnover_A</th>\n",
       "      <th>turnover_B</th>\n",
       "      <th>TARGET</th>\n",
       "    </tr>\n",
       "  </thead>\n",
       "  <tbody>\n",
       "    <tr>\n",
       "      <th>0</th>\n",
       "      <td>66</td>\n",
       "      <td>66</td>\n",
       "      <td>0</td>\n",
       "      <td>3</td>\n",
       "      <td>333.561114</td>\n",
       "      <td>264.721010</td>\n",
       "      <td>1</td>\n",
       "    </tr>\n",
       "    <tr>\n",
       "      <th>1</th>\n",
       "      <td>45</td>\n",
       "      <td>45</td>\n",
       "      <td>3</td>\n",
       "      <td>39</td>\n",
       "      <td>394.735699</td>\n",
       "      <td>284.904978</td>\n",
       "      <td>1</td>\n",
       "    </tr>\n",
       "    <tr>\n",
       "      <th>2</th>\n",
       "      <td>42</td>\n",
       "      <td>42</td>\n",
       "      <td>2</td>\n",
       "      <td>27</td>\n",
       "      <td>342.180990</td>\n",
       "      <td>1175.589721</td>\n",
       "      <td>1</td>\n",
       "    </tr>\n",
       "    <tr>\n",
       "      <th>3</th>\n",
       "      <td>31</td>\n",
       "      <td>31</td>\n",
       "      <td>0</td>\n",
       "      <td>3</td>\n",
       "      <td>453.757916</td>\n",
       "      <td>242.341754</td>\n",
       "      <td>1</td>\n",
       "    </tr>\n",
       "    <tr>\n",
       "      <th>4</th>\n",
       "      <td>62</td>\n",
       "      <td>62</td>\n",
       "      <td>0</td>\n",
       "      <td>3</td>\n",
       "      <td>384.577469</td>\n",
       "      <td>287.008370</td>\n",
       "      <td>1</td>\n",
       "    </tr>\n",
       "  </tbody>\n",
       "</table>\n",
       "</div>"
      ],
      "text/plain": [
       "   age  age_P  LOR  lor_M  turnover_A   turnover_B  TARGET\n",
       "0   66     66    0      3  333.561114   264.721010       1\n",
       "1   45     45    3     39  394.735699   284.904978       1\n",
       "2   42     42    2     27  342.180990  1175.589721       1\n",
       "3   31     31    0      3  453.757916   242.341754       1\n",
       "4   62     62    0      3  384.577469   287.008370       1"
      ]
     },
     "execution_count": 12,
     "metadata": {},
     "output_type": "execute_result"
    }
   ],
   "source": [
    "selected_features = numerical_features + ['TARGET']\n",
    "subset_data = data[selected_features]\n",
    "subset_data.head()"
   ]
  },
  {
   "cell_type": "code",
   "execution_count": 13,
   "id": "4d2a39ba",
   "metadata": {},
   "outputs": [
    {
     "data": {
      "image/png": "[encoded data removed]",
      "text/plain": [
       "<Figure size 720x576 with 2 Axes>"
      ]
     },
     "metadata": {
      "needs_background": "light"
     },
     "output_type": "display_data"
    }
   ],
   "source": [
    "# Correlation matrix to identify potential relationships\n",
    "corr_matrix = subset_data.corr()\n",
    "plt.figure(figsize=(10, 8))\n",
    "sns.heatmap(corr_matrix, annot=True, cmap='coolwarm')\n",
    "plt.title('Correlation Matrix of Numerical Features')\n",
    "plt.show()"
   ]
  },
  {
   "cell_type": "markdown",
   "id": "fb4d5525",
   "metadata": {},
   "source": [
    "1. The diagonal from the top left to the bottom right shows perfect correlation (correlation coefficient of 1) for each variable with itself, which is expected in any correlation matrix.\n",
    "\n",
    "2. The feature 'age' seems to have a moderate positive correlation with 'TARGET', indicated by the lighter shade of blue in the corresponding cell. This suggests that as 'age' increases, 'TARGET' also tends to increase to some extent.\n",
    "\n",
    "3. 'turnover_A' and 'turnover_B' also appear to have a positive correlation with each other, as shown by the lighter blue color. This could mean that when 'turnover_A' increases, 'turnover_B' tends to increase as well.\n",
    "\n",
    "4. 'LOR' (length of relationship) and 'lor_M' (presumably a related metric) show no correlation with 'turnover_A' and 'turnover_B', as indicated by the dark red color. This suggests that the length of relationship does not seem to influence turnover values.\n",
    "\n",
    "5. It's notable that there are no strong negative correlations visible in the matrix. The strongest negative correlations appear between 'LOR'/'lor_M' and 'TARGET', but even these are relatively weak, as indicated by the dark red to burgundy color, which is closer to the middle of the color scale."
   ]
  },
  {
   "cell_type": "markdown",
   "id": "50114948",
   "metadata": {},
   "source": [
    "# 2. Data Preparation"
   ]
  },
  {
   "cell_type": "markdown",
   "id": "f63c4d39",
   "metadata": {},
   "source": [
    "## 1. Addressing Data Integrity Issues"
   ]
  },
  {
   "cell_type": "markdown",
   "id": "e5e0b40a",
   "metadata": {},
   "source": [
    "We noted some potential issues with data integrity:\n",
    "\n",
    "- Perfect correlation between 'age' and 'age_P', and between 'LOR' and 'lor_M', indicating redundant information.\n",
    "- Outliers in the 'turnover_A' and 'turnover_B' features."
   ]
  },
  {
   "cell_type": "code",
   "execution_count": 14,
   "id": "5130ea92",
   "metadata": {},
   "outputs": [],
   "source": [
    "# Drop redundant or unnecessary features\n",
    "data_prep = data.drop(['age_P', 'lor_M', 'contract', 'city', 'ID'], axis=1)"
   ]
  },
  {
   "cell_type": "code",
   "execution_count": 15,
   "id": "dcccea94",
   "metadata": {},
   "outputs": [],
   "source": [
    "# Handling outliers in turnover columns\n",
    "# For simplicity, we cap the outliers to a specified percentile\n",
    "for col in ['turnover_A', 'turnover_B']:\n",
    "    high_cap = data_prep[col].quantile(0.99)  # Cap at the 99th percentile\n",
    "    data_prep.loc[data_prep[col] > high_cap, col] = high_cap"
   ]
  },
  {
   "cell_type": "markdown",
   "id": "12ac93c4",
   "metadata": {},
   "source": [
    "## 2. Encoding Categorical Variables"
   ]
  },
  {
   "cell_type": "code",
   "execution_count": 16,
   "id": "f1b1385f",
   "metadata": {},
   "outputs": [],
   "source": [
    "# categorical and we use one-hot encoding\n",
    "loyalty_dummies = pd.get_dummies(data_prep['loyalty'], prefix='loyalty')\n",
    "data_prep = pd.concat([data_prep, loyalty_dummies], axis=1)\n",
    "data_prep.drop('loyalty', axis=1, inplace=True)\n",
    "\n",
    "typea_dummies = pd.get_dummies(data_prep['type_A'], prefix='type_A')\n",
    "data_prep = pd.concat([data_prep, typea_dummies], axis=1)\n",
    "data_prep.drop('type_A', axis=1, inplace=True)\n",
    "\n",
    "typeb_dummies = pd.get_dummies(data_prep['type_B'], prefix='type_B')\n",
    "data_prep = pd.concat([data_prep, typeb_dummies], axis=1)\n",
    "data_prep.drop('type_B', axis=1, inplace=True)"
   ]
  },
  {
   "cell_type": "markdown",
   "id": "cfe874a8",
   "metadata": {},
   "source": [
    "## 3. Feature Scaling"
   ]
  },
  {
   "cell_type": "code",
   "execution_count": 17,
   "id": "6809120f",
   "metadata": {},
   "outputs": [],
   "source": [
    "from sklearn.preprocessing import StandardScaler\n",
    "\n",
    "# Assume 'age', 'LOR', 'turnover_A', and 'turnover_B' are numerical\n",
    "scaler = StandardScaler()\n",
    "data_prep[['age', 'LOR', 'turnover_A', 'turnover_B']] = scaler.fit_transform(\n",
    "    data_prep[['age', 'LOR', 'turnover_A', 'turnover_B']])"
   ]
  },
  {
   "cell_type": "markdown",
   "id": "3295b731",
   "metadata": {},
   "source": [
    "## 4. Feature Engineering"
   ]
  },
  {
   "cell_type": "code",
   "execution_count": 18,
   "id": "8ee4ab7c",
   "metadata": {},
   "outputs": [],
   "source": [
    "# Create a new feature representing the total turnover\n",
    "data_prep['total_turnover'] = data_prep['turnover_A'] + data_prep['turnover_B']\n",
    "\n",
    "# Create a new feature representing customer engagement level\n",
    "data_prep['engagement_level'] = data_prep['prod_A'] + data_prep['prod_B']\n",
    "\n",
    "data_prep.drop(['turnover_A', 'turnover_B', 'prod_A', 'prod_B'], axis=1, inplace=True)"
   ]
  },
  {
   "cell_type": "code",
   "execution_count": 19,
   "id": "f488c19b",
   "metadata": {},
   "outputs": [
    {
     "data": {
      "text/html": [
       "<div>\n",
       "<style scoped>\n",
       "    .dataframe tbody tr th:only-of-type {\n",
       "        vertical-align: middle;\n",
       "    }\n",
       "\n",
       "    .dataframe tbody tr th {\n",
       "        vertical-align: top;\n",
       "    }\n",
       "\n",
       "    .dataframe thead th {\n",
       "        text-align: right;\n",
       "    }\n",
       "</style>\n",
       "<table border=\"1\" class=\"dataframe\">\n",
       "  <thead>\n",
       "    <tr style=\"text-align: right;\">\n",
       "      <th></th>\n",
       "      <th>TARGET</th>\n",
       "      <th>age</th>\n",
       "      <th>LOR</th>\n",
       "      <th>loyalty_0</th>\n",
       "      <th>loyalty_1</th>\n",
       "      <th>loyalty_2</th>\n",
       "      <th>loyalty_3</th>\n",
       "      <th>loyalty_99</th>\n",
       "      <th>type_A_0</th>\n",
       "      <th>type_A_3</th>\n",
       "      <th>type_A_6</th>\n",
       "      <th>type_B_0</th>\n",
       "      <th>type_B_3</th>\n",
       "      <th>type_B_6</th>\n",
       "      <th>type_B_9</th>\n",
       "      <th>total_turnover</th>\n",
       "      <th>engagement_level</th>\n",
       "    </tr>\n",
       "  </thead>\n",
       "  <tbody>\n",
       "    <tr>\n",
       "      <th>0</th>\n",
       "      <td>1</td>\n",
       "      <td>2.321311</td>\n",
       "      <td>-0.959718</td>\n",
       "      <td>0</td>\n",
       "      <td>0</td>\n",
       "      <td>0</td>\n",
       "      <td>0</td>\n",
       "      <td>1</td>\n",
       "      <td>1</td>\n",
       "      <td>0</td>\n",
       "      <td>0</td>\n",
       "      <td>1</td>\n",
       "      <td>0</td>\n",
       "      <td>0</td>\n",
       "      <td>0</td>\n",
       "      <td>-0.958376</td>\n",
       "      <td>0</td>\n",
       "    </tr>\n",
       "    <tr>\n",
       "      <th>1</th>\n",
       "      <td>1</td>\n",
       "      <td>0.702710</td>\n",
       "      <td>2.148517</td>\n",
       "      <td>0</td>\n",
       "      <td>1</td>\n",
       "      <td>0</td>\n",
       "      <td>0</td>\n",
       "      <td>0</td>\n",
       "      <td>0</td>\n",
       "      <td>1</td>\n",
       "      <td>0</td>\n",
       "      <td>0</td>\n",
       "      <td>1</td>\n",
       "      <td>0</td>\n",
       "      <td>0</td>\n",
       "      <td>0.281300</td>\n",
       "      <td>2</td>\n",
       "    </tr>\n",
       "    <tr>\n",
       "      <th>2</th>\n",
       "      <td>1</td>\n",
       "      <td>0.471481</td>\n",
       "      <td>1.112439</td>\n",
       "      <td>0</td>\n",
       "      <td>1</td>\n",
       "      <td>0</td>\n",
       "      <td>0</td>\n",
       "      <td>0</td>\n",
       "      <td>0</td>\n",
       "      <td>1</td>\n",
       "      <td>0</td>\n",
       "      <td>0</td>\n",
       "      <td>0</td>\n",
       "      <td>1</td>\n",
       "      <td>0</td>\n",
       "      <td>1.662547</td>\n",
       "      <td>2</td>\n",
       "    </tr>\n",
       "    <tr>\n",
       "      <th>3</th>\n",
       "      <td>1</td>\n",
       "      <td>-0.376357</td>\n",
       "      <td>-0.959718</td>\n",
       "      <td>0</td>\n",
       "      <td>0</td>\n",
       "      <td>0</td>\n",
       "      <td>0</td>\n",
       "      <td>1</td>\n",
       "      <td>1</td>\n",
       "      <td>0</td>\n",
       "      <td>0</td>\n",
       "      <td>1</td>\n",
       "      <td>0</td>\n",
       "      <td>0</td>\n",
       "      <td>0</td>\n",
       "      <td>1.310230</td>\n",
       "      <td>0</td>\n",
       "    </tr>\n",
       "    <tr>\n",
       "      <th>4</th>\n",
       "      <td>1</td>\n",
       "      <td>2.013006</td>\n",
       "      <td>-0.959718</td>\n",
       "      <td>0</td>\n",
       "      <td>0</td>\n",
       "      <td>0</td>\n",
       "      <td>0</td>\n",
       "      <td>1</td>\n",
       "      <td>1</td>\n",
       "      <td>0</td>\n",
       "      <td>0</td>\n",
       "      <td>1</td>\n",
       "      <td>0</td>\n",
       "      <td>0</td>\n",
       "      <td>0</td>\n",
       "      <td>0.090144</td>\n",
       "      <td>0</td>\n",
       "    </tr>\n",
       "  </tbody>\n",
       "</table>\n",
       "</div>"
      ],
      "text/plain": [
       "   TARGET       age       LOR  loyalty_0  loyalty_1  loyalty_2  loyalty_3  \\\n",
       "0       1  2.321311 -0.959718          0          0          0          0   \n",
       "1       1  0.702710  2.148517          0          1          0          0   \n",
       "2       1  0.471481  1.112439          0          1          0          0   \n",
       "3       1 -0.376357 -0.959718          0          0          0          0   \n",
       "4       1  2.013006 -0.959718          0          0          0          0   \n",
       "\n",
       "   loyalty_99  type_A_0  type_A_3  type_A_6  type_B_0  type_B_3  type_B_6  \\\n",
       "0           1         1         0         0         1         0         0   \n",
       "1           0         0         1         0         0         1         0   \n",
       "2           0         0         1         0         0         0         1   \n",
       "3           1         1         0         0         1         0         0   \n",
       "4           1         1         0         0         1         0         0   \n",
       "\n",
       "   type_B_9  total_turnover  engagement_level  \n",
       "0         0       -0.958376                 0  \n",
       "1         0        0.281300                 2  \n",
       "2         0        1.662547                 2  \n",
       "3         0        1.310230                 0  \n",
       "4         0        0.090144                 0  "
      ]
     },
     "execution_count": 19,
     "metadata": {},
     "output_type": "execute_result"
    }
   ],
   "source": [
    "data_prep.head()"
   ]
  },
  {
   "cell_type": "markdown",
   "id": "989d6f97",
   "metadata": {},
   "source": [
    "# 3. Feature Selection & Model Building, Evaluation"
   ]
  },
  {
   "cell_type": "markdown",
   "id": "eb1f3eeb",
   "metadata": {},
   "source": [
    "1. Feature Selection: Utilize both Recursive Feature Elimination (RFE) with Logistic Regression and a Decision Tree Classifier to select important features.\n",
    "2. Model Building: Construct three logistic regression models using different sets of features identified during the feature selection process.\n",
    "3. Model Evaluation: Interpret the coefficients, discuss their intuitive sense, and compare across models."
   ]
  },
  {
   "cell_type": "markdown",
   "id": "10270d98",
   "metadata": {},
   "source": [
    "## Feature Selection and Model Building\n",
    "1. Model 1: Features selected by RFE with Logistic Regression.\n",
    "2. Model 2: Features selected based on the importance from a Decision Tree Classifier.\n",
    "3. Model 3: A combination of features from both selection methods or a different set of features."
   ]
  },
  {
   "cell_type": "code",
   "execution_count": 20,
   "id": "d6b9b591",
   "metadata": {},
   "outputs": [],
   "source": [
    "from sklearn.model_selection import train_test_split\n",
    "from sklearn.linear_model import LogisticRegression\n",
    "from sklearn.feature_selection import RFE\n",
    "from sklearn.tree import DecisionTreeClassifier\n",
    "from sklearn.metrics import classification_report"
   ]
  },
  {
   "cell_type": "code",
   "execution_count": 21,
   "id": "ffec9563",
   "metadata": {},
   "outputs": [],
   "source": [
    "# Splitting the dataset into features and target variable\n",
    "X = data_prep.drop('TARGET', axis=1)\n",
    "y = data_prep['TARGET']"
   ]
  },
  {
   "cell_type": "code",
   "execution_count": 22,
   "id": "aa8ddba6",
   "metadata": {},
   "outputs": [],
   "source": [
    "# Splitting the data into training and testing sets\n",
    "X_train, X_test, y_train, y_test = train_test_split(X, y, test_size=0.3, random_state=42)"
   ]
  },
  {
   "cell_type": "code",
   "execution_count": 23,
   "id": "73c075d9",
   "metadata": {},
   "outputs": [],
   "source": [
    "# Feature Selection with RFE using Logistic Regression\n",
    "logreg_rfe = LogisticRegression(max_iter=1000, random_state=42)\n",
    "rfe = RFE(estimator=logreg_rfe, n_features_to_select=10)  # Selecting top 10 features for simplicity\n",
    "rfe.fit(X_train, y_train)\n",
    "important_features_rfe = list(X.columns[rfe.support_])"
   ]
  },
  {
   "cell_type": "code",
   "execution_count": 24,
   "id": "ee3618ef",
   "metadata": {},
   "outputs": [],
   "source": [
    "# Feature Selection with Decision Tree\n",
    "dtc = DecisionTreeClassifier(random_state=42)\n",
    "dtc.fit(X_train, y_train)\n",
    "feature_importances = pd.Series(dtc.feature_importances_, index=X_train.columns)\n",
    "top_features_dtc = feature_importances.nlargest(10).index.tolist()"
   ]
  },
  {
   "cell_type": "code",
   "execution_count": 25,
   "id": "43e8139f",
   "metadata": {},
   "outputs": [],
   "source": [
    "# Model 1: Logistic Regression with RFE-selected features\n",
    "logreg_model_1 = LogisticRegression(max_iter=1000, random_state=42)\n",
    "logreg_model_1.fit(X_train[important_features_rfe], y_train)\n",
    "predictions_1 = logreg_model_1.predict(X_test[important_features_rfe])\n",
    "report_1 = classification_report(y_test, predictions_1)"
   ]
  },
  {
   "cell_type": "code",
   "execution_count": 26,
   "id": "bb49c39c",
   "metadata": {},
   "outputs": [],
   "source": [
    "# Model 2: Logistic Regression with Decision Tree-selected features\n",
    "logreg_model_2 = LogisticRegression(max_iter=1000, random_state=42)\n",
    "logreg_model_2.fit(X_train[top_features_dtc], y_train)\n",
    "predictions_2 = logreg_model_2.predict(X_test[top_features_dtc])\n",
    "report_2 = classification_report(y_test, predictions_2)"
   ]
  },
  {
   "cell_type": "code",
   "execution_count": 27,
   "id": "8e2af766",
   "metadata": {},
   "outputs": [],
   "source": [
    "# Model 3: Logistic Regression with a combination of features\n",
    "combined_features = list(set(important_features_rfe + top_features_dtc))\n",
    "logreg_model_3 = LogisticRegression(max_iter=1000, random_state=42)\n",
    "logreg_model_3.fit(X_train[combined_features], y_train)\n",
    "predictions_3 = logreg_model_3.predict(X_test[combined_features])\n",
    "report_3 = classification_report(y_test, predictions_3)"
   ]
  },
  {
   "cell_type": "code",
   "execution_count": 28,
   "id": "c2e5cb0a",
   "metadata": {
    "scrolled": true
   },
   "outputs": [
    {
     "name": "stdout",
     "output_type": "stream",
     "text": [
      "Model 1 Report:\n",
      "               precision    recall  f1-score   support\n",
      "\n",
      "           0       0.74      0.77      0.76      2402\n",
      "           1       0.68      0.65      0.66      1803\n",
      "\n",
      "    accuracy                           0.72      4205\n",
      "   macro avg       0.71      0.71      0.71      4205\n",
      "weighted avg       0.72      0.72      0.72      4205\n",
      "\n",
      "Model 2 Report:\n",
      "               precision    recall  f1-score   support\n",
      "\n",
      "           0       0.76      0.80      0.78      2402\n",
      "           1       0.71      0.66      0.68      1803\n",
      "\n",
      "    accuracy                           0.74      4205\n",
      "   macro avg       0.73      0.73      0.73      4205\n",
      "weighted avg       0.74      0.74      0.74      4205\n",
      "\n",
      "Model 3 Report:\n",
      "               precision    recall  f1-score   support\n",
      "\n",
      "           0       0.76      0.80      0.78      2402\n",
      "           1       0.72      0.66      0.69      1803\n",
      "\n",
      "    accuracy                           0.74      4205\n",
      "   macro avg       0.74      0.73      0.73      4205\n",
      "weighted avg       0.74      0.74      0.74      4205\n",
      "\n"
     ]
    }
   ],
   "source": [
    "# Displaying the classification reports\n",
    "print(\"Model 1 Report:\\n\", report_1)\n",
    "print(\"Model 2 Report:\\n\", report_2)\n",
    "print(\"Model 3 Report:\\n\", report_3)"
   ]
  },
  {
   "cell_type": "markdown",
   "id": "a1753d15",
   "metadata": {},
   "source": [
    "1. Model 1 (RFE-selected features):\n",
    "* Precision: 0.74 (no) and 0.68 (yes)\n",
    "* Recall: 0.77 (no) and 0.65 (yes)\n",
    "* F1-score: 0.76 (no) and 0.66 (yes)\n",
    "* Accuracy: 72%\n",
    "\n",
    "2. Model 2 (Decision Tree-selected features):\n",
    "* Precision: 0.76 (no) and 0.71 (yes)\n",
    "* Recall: 0.80 (no) and 0.66 (yes)\n",
    "* F1-score: 0.78 (no) and 0.68 (yes)\n",
    "* Accuracy: 74%\n",
    "\n",
    "3. Model 3 (Combined features)\n",
    "* Precision: 0.76 (no) and 0.72 (yes)\n",
    "* Recall: 0.80 (no) and 0.66 (yes)\n",
    "* F1-score: 0.78 (no) and 0.69 (yes)\n",
    "* Accuracy: 74%"
   ]
  },
  {
   "cell_type": "code",
   "execution_count": 29,
   "id": "833e571c",
   "metadata": {},
   "outputs": [
    {
     "name": "stdout",
     "output_type": "stream",
     "text": [
      "Model 1 Coefficients:\n",
      "                   Coefficient\n",
      "LOR                  0.554204\n",
      "loyalty_0           -1.798864\n",
      "type_A_0            -1.973086\n",
      "type_A_6             3.248483\n",
      "type_B_0             3.126896\n",
      "type_B_3             1.219997\n",
      "type_B_6            -2.343928\n",
      "type_B_9            -2.002937\n",
      "total_turnover       0.587162\n",
      "engagement_level    -1.153753\n",
      "Model 2 Coefficients:\n",
      "                 Coefficient\n",
      "total_turnover     0.497555\n",
      "age                0.468644\n",
      "LOR                0.486444\n",
      "loyalty_99         1.046183\n",
      "loyalty_1          0.692442\n",
      "type_B_6          -3.423916\n",
      "type_A_3           0.860460\n",
      "type_B_0           2.712771\n",
      "loyalty_3          0.736909\n",
      "loyalty_2          0.626685\n",
      "Model 3 Coefficients:\n",
      "                   Coefficient\n",
      "type_A_0            -2.445851\n",
      "type_A_6             2.996129\n",
      "loyalty_99           0.608762\n",
      "LOR                  0.529744\n",
      "type_A_3            -0.551726\n",
      "total_turnover       0.530963\n",
      "age                  0.477450\n",
      "type_B_3             1.317576\n",
      "loyalty_3            0.302651\n",
      "type_B_0             3.329582\n",
      "loyalty_1            0.229942\n",
      "engagement_level    -0.886626\n",
      "loyalty_2            0.191494\n",
      "type_B_6            -2.557202\n",
      "type_B_9            -2.091404\n",
      "loyalty_0           -1.334298\n"
     ]
    }
   ],
   "source": [
    "# Extracting and displaying coefficients for interpretation\n",
    "coefficients_model_1 = pd.DataFrame(logreg_model_1.coef_.flatten(), index=important_features_rfe, columns=['Coefficient'])\n",
    "print(\"Model 1 Coefficients:\\n\", coefficients_model_1)\n",
    "coefficients_model_2 = pd.DataFrame(logreg_model_2.coef_.flatten(), index=top_features_dtc, columns=['Coefficient'])\n",
    "print(\"Model 2 Coefficients:\\n\", coefficients_model_2)\n",
    "coefficients_model_3 = pd.DataFrame(logreg_model_3.coef_.flatten(), index=combined_features, columns=['Coefficient'])\n",
    "print(\"Model 3 Coefficients:\\n\", coefficients_model_3)"
   ]
  },
  {
   "cell_type": "markdown",
   "id": "2eb2490a",
   "metadata": {},
   "source": [
    "### Model 1 (RFE-selected features)\n",
    "* Features like type_A_6 and type_B_0 have positive coefficients, suggesting a strong positive influence on the likelihood of purchasing an additional product.\n",
    "* Conversely, type_A_0, type_B_6, and type_B_9 have negative coefficients, indicating a negative impact on the likelihood.\n",
    "\n",
    "## Model 2 (Decision Tree-selected features)\n",
    "* loyalty_99 and type_B_0 show strong positive influences, while type_B_6 has a significant negative effect.\n",
    "* total_turnover and age also have positive coefficients, suggesting that older customers or those with higher turnover are more likely to purchase additional products.\n",
    "\n",
    "## Model 3 (Combined features)\n",
    "* This model combines features from both methods. type_B_0 and type_A_6 again show strong positive impacts.\n",
    "* type_A_0, type_B_6, and type_B_9 have notable negative coefficients, similar to the first model.\n",
    "\n",
    "## Interpretation and Consistency\n",
    "* The direction and magnitude of coefficients are relatively consistent across models for features that appear in more than one model. For example, type_B_0 consistently shows a strong positive influence, while type_B_6 tends to have a negative impact.\n",
    "* The coefficients provide intuitive insights. For instance, loyalty levels (loyalty_99, loyalty_1, loyalty_2, loyalty_3) have varying impacts, suggesting that different loyalty segments behave distinctly in terms of purchasing additional products.\n",
    "* total_turnover and age being positive in influencing the purchase decision aligns with intuition, as higher engagement or older age might correlate with a higher propensity to buy more insurance products."
   ]
  },
  {
   "cell_type": "markdown",
   "id": "4d4a9be7",
   "metadata": {},
   "source": [
    "# 4. Model Selection"
   ]
  },
  {
   "cell_type": "code",
   "execution_count": 30,
   "id": "943d9316",
   "metadata": {},
   "outputs": [
    {
     "name": "stdout",
     "output_type": "stream",
     "text": [
      "Mean F1 Score for Model 1: 0.6375081056237702\n",
      "Mean F1 Score for Model 2: 0.6679299689491119\n",
      "Mean F1 Score for Model 3: 0.6688101246926219\n"
     ]
    }
   ],
   "source": [
    "from sklearn.model_selection import cross_val_score\n",
    "\n",
    "# Model 1: Cross-validation\n",
    "scores_model_1 = cross_val_score(logreg_model_1, X_train[important_features_rfe], y_train, cv=5, scoring='f1')\n",
    "mean_score_model_1 = scores_model_1.mean()\n",
    "\n",
    "# Model 2: Cross-validation\n",
    "scores_model_2 = cross_val_score(logreg_model_2, X_train[top_features_dtc], y_train, cv=5, scoring='f1')\n",
    "mean_score_model_2 = scores_model_2.mean()\n",
    "\n",
    "# Model 3: Cross-validation\n",
    "scores_model_3 = cross_val_score(logreg_model_3, X_train[combined_features], y_train, cv=5, scoring='f1')\n",
    "mean_score_model_3 = scores_model_3.mean()\n",
    "\n",
    "print(f\"Mean F1 Score for Model 1: {mean_score_model_1}\")\n",
    "print(f\"Mean F1 Score for Model 2: {mean_score_model_2}\")\n",
    "print(f\"Mean F1 Score for Model 3: {mean_score_model_3}\")"
   ]
  },
  {
   "cell_type": "code",
   "execution_count": 31,
   "id": "4446fc38",
   "metadata": {},
   "outputs": [
    {
     "name": "stdout",
     "output_type": "stream",
     "text": [
      "Classification Report for Model 2 on Test Data:\n",
      "              precision    recall  f1-score   support\n",
      "\n",
      "           0       0.76      0.80      0.78      2402\n",
      "           1       0.71      0.66      0.68      1803\n",
      "\n",
      "    accuracy                           0.74      4205\n",
      "   macro avg       0.73      0.73      0.73      4205\n",
      "weighted avg       0.74      0.74      0.74      4205\n",
      "\n"
     ]
    }
   ],
   "source": [
    "# Applying the selected Model 2 to the test set\n",
    "test_predictions_model_2 = logreg_model_2.predict(X_test[top_features_dtc])\n",
    "test_report_model_2 = classification_report(y_test, test_predictions_model_2)\n",
    "\n",
    "print(\"Classification Report for Model 2 on Test Data:\")\n",
    "print(test_report_model_2)"
   ]
  },
  {
   "cell_type": "markdown",
   "id": "231d2d78",
   "metadata": {},
   "source": [
    "### Model Selection Criteria\n",
    "1. Performance Metrics: We'll consider accuracy, precision, recall, and F1-score to evaluate model performance. While accuracy is a general indicator, precision and recall are crucial for imbalanced datasets, and the F1-score provides a balance between them.\n",
    "\n",
    "2. Interpretability: A model that offers clear insights into how features affect the predicted outcome is valuable, especially in industries like insurance where decisions need to be explainable.\n",
    "\n",
    "3. Complexity: Simpler models are generally preferable due to easier implementation and understandability. However, a more complex model might be justified if it significantly outperforms simpler ones.\n",
    "\n",
    "### Evaluation Using Cross-Validation\n",
    "We'll use cross-validation on the training set to assess the stability and generalizability of our models. This approach provides a more robust estimate of model performance compared to a single train-test split.\n",
    "\n",
    "### Application on Testing Subset\n",
    "After selecting the model based on cross-validation performance, we'll apply it to the testing subset to evaluate its performance on previously unseen data. This step is crucial to ensure our model generalizes well and is not overfitting the training data.\n",
    "\n",
    "### Implementation\n",
    "Let's perform cross-validation on the training data for each model and then apply the preferred model to the testing subset.\n",
    "\n",
    "### Selecting and Applying the Preferred Model\n",
    "1. Model Selection: Suppose after cross-validation, Model 2 (Decision Tree-selected features) shows a good balance between performance and interpretability, with a slight advantage in F1-score and recall compared to the others.\n",
    "\n",
    "2. Rationale: We choose Model 2 because it offers a good trade-off between interpretability and performance. The model uses features identified as important by a decision tree, which can provide intuitive insights into feature importance.\n",
    "\n",
    "3. Application on Testing Subset: We apply Model 2 to the testing subset to assess its real-world performance."
   ]
  },
  {
   "cell_type": "markdown",
   "id": "c8e81c73",
   "metadata": {},
   "source": [
    "# 5. Conclusion\n",
    "In conclusion, the process of developing and selecting the best logistic regression model for predicting whether an insurance company customer will purchase an additional product involved several key steps. We began with feature selection, employing both Recursive Feature Elimination (RFE) and a Decision Tree Classifier to identify the most relevant features. Three distinct logistic regression models were constructed, each utilizing a different set of features.\n",
    "\n",
    "The evaluation of these models through cross-validation revealed that Model 3 had the highest mean F1 score, closely followed by Model 2. Despite Model 3's slightly superior statistical performance, we discussed the potential preference for Model 2 based on factors beyond raw performance metrics, such as interpretability, simplicity, feature relevance, and consistency.\n",
    "\n",
    "This exercise underscores the importance of a holistic approach to model selection, where the choice is not solely based on numerical scores but also considers the model's applicability, understandability, and alignment with business objectives. The selected model's performance on the test data further validated its effectiveness and generalizability, ensuring it is a reliable tool for the insurance company to enhance its customer retention and sales strategies.\n",
    "\n",
    "Ultimately, this work highlights the critical balance between statistical rigor and practical utility in data science, particularly in fields like insurance where decisions have significant real-world implications."
   ]
  },
  {
   "cell_type": "code",
   "execution_count": null,
   "id": "40bbc729",
   "metadata": {},
   "outputs": [],
   "source": []
  }
 ],
 "metadata": {
  "kernelspec": {
   "display_name": "Python 3 (ipykernel)",
   "language": "python",
   "name": "python3"
  },
  "language_info": {
   "codemirror_mode": {
    "name": "ipython",
    "version": 3
   },
   "file_extension": ".py",
   "mimetype": "text/x-python",
   "name": "python",
   "nbconvert_exporter": "python",
   "pygments_lexer": "ipython3",
   "version": "3.9.7"
  }
 },
 "nbformat": 4,
 "nbformat_minor": 5
}
