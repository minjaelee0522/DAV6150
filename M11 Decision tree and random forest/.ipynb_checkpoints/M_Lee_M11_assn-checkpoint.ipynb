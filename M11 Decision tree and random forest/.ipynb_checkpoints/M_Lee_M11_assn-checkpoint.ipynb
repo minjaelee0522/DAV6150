{
 "cells": [
  {
   "cell_type": "markdown",
   "id": "858bbdc6",
   "metadata": {},
   "source": [
    "# Introduction\n",
    "\n",
    "Problem Summary:\n",
    "The assignment involves developing and comparing two types of machine learning models – a Decision Tree and a Random Forest – to predict the level of Regents diploma awards among various student subgroups in New York State school districts. The dataset provides a detailed view of graduation statistics, segmented by different categorizations and subgroupings, across NY State school districts for the 2018-2019 school year. The primary goal is to predict a new categorical variable that classifies the percentage of Regents diplomas awarded into three categories: low, medium, and high, based on the relationship with the median percentage of all Regents diplomas awarded.\n",
    "\n",
    "Steps to Address the Problem:\n",
    "1. **Exploratory Data Analysis (EDA)**:\n",
    "* Assess the dataset's overall structure, quality, and distribution.\n",
    "* Identify any anomalies, missing values, or inconsistencies in the data.\n",
    "* Perform statistical summaries and visualizations to understand the data's characteristics and underlying patterns.\n",
    "2. **Data Preparation**:\n",
    "* Clean the data by handling missing values and incorrect data types, especially for numerical columns stored as objects.\n",
    "* Create the target variable by categorizing the reg_pct attribute into three classes (low, medium, high) based on the specified criteria.\n",
    "* Encode categorical variables and normalize/standardize numerical variables as necessary.\n",
    "3. **Prepped Data Review**:\n",
    "* Conduct a second round of EDA on the prepared dataset.\n",
    "* Verify the integrity of the data post-preparation and ensure it's suitable for modeling.\n",
    "4. **Decision Tree and Random Forest Modeling**:\n",
    "* Develop a Decision Tree model and a Random Forest model using the prepared dataset.\n",
    "* Select relevant features and fine-tune hyperparameters to optimize model performance.\n",
    "* Evaluate the models using appropriate metrics to assess their prediction accuracy and generalization capability.\n",
    "5. **Model Selection and Evaluation**:\n",
    "* Compare the performance of the Decision Tree and Random Forest models.\n",
    "* Select the preferred model based on a balance of accuracy, interpretability, and complexity.\n",
    "* Apply the chosen model to a testing subset to evaluate its real-world applicability and performance.\n",
    "6. **Conclusions**:\n",
    "* Summarize the findings from the model comparisons.\n",
    "* Discuss the implications of the model's performance and potential areas for further research or improvement."
   ]
  },
  {
   "cell_type": "code",
   "execution_count": 1,
   "id": "2a9151df",
   "metadata": {},
   "outputs": [],
   "source": [
    "# Libaries import\n",
    "import numpy as np # linear algebra\n",
    "import pandas as pd # data processing, CSV file I/O (e.g. pd.read_csv)\n",
    "import matplotlib.pyplot as plt\n",
    "import seaborn as sns\n",
    "from copy import copy"
   ]
  },
  {
   "cell_type": "markdown",
   "id": "de4bd958",
   "metadata": {},
   "source": [
    "# Data Load"
   ]
  },
  {
   "cell_type": "code",
   "execution_count": null,
   "id": "82b935f1",
   "metadata": {},
   "outputs": [],
   "source": []
  },
  {
   "cell_type": "code",
   "execution_count": null,
   "id": "a5ec439b",
   "metadata": {},
   "outputs": [],
   "source": []
  }
 ],
 "metadata": {
  "kernelspec": {
   "display_name": "Python 3 (ipykernel)",
   "language": "python",
   "name": "python3"
  },
  "language_info": {
   "codemirror_mode": {
    "name": "ipython",
    "version": 3
   },
   "file_extension": ".py",
   "mimetype": "text/x-python",
   "name": "python",
   "nbconvert_exporter": "python",
   "pygments_lexer": "ipython3",
   "version": "3.9.7"
  }
 },
 "nbformat": 4,
 "nbformat_minor": 5
}
