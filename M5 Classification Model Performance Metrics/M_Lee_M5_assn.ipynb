{
 "cells": [
  {
   "cell_type": "markdown",
   "id": "8c87284e",
   "metadata": {},
   "source": [
    "# 1. Introduction\n",
    "\n",
    "The task involves evaluating the performance of a binary classification model using a dataset that contains actual classifications, predicted classifications, and the model's probability scores for each observation. The goal is to both calculate various performance metrics manually through custom Python functions and compare these calculations with results obtained from pre-built functions in the scikit-learn library. Additionally, graphical outputs such as ROC curves will be generated to visually assess model performance.\n",
    "\n",
    "Here's a summary of the steps to address this problem:\n",
    "\n",
    "1. **Data Preparation**: Load the dataset from the GitHub repository into a Pandas DataFrame. This step involves reading the CSV file and ensuring the data is correctly imported for analysis.\n",
    "\n",
    "2. **Confusion Matrix Calculation**: Use Pandas’ crosstab() function to calculate a confusion matrix. This involves understanding and correctly interpreting the output, ensuring we know which dimensions represent actual versus predicted classifications.\n",
    "\n",
    "3. **Extraction of Confusion Matrix Values**: Extract the individual values from the confusion matrix (True Positives, False Positives, True Negatives, False Negatives) and save them for later use. These values are critical for calculating various performance metrics.\n",
    "\n",
    "4. **Custom Metric Calculation Functions**:\n",
    "* Develop Python functions that calculate the following metrics without using pre-built Python functions:\n",
    "    * Accuracy\n",
    "    * Precision\n",
    "    * Sensitivity (Recall)\n",
    "    * Specificity\n",
    "    * F1 Score\n",
    "\n",
    "5. **ROC Curve and AUC Calculation Function**: Create a Python function to plot a Receiver Operating Characteristic (ROC) curve and calculate the Area Under the Curve (AUC) for the dataset.\n",
    "\n",
    "6. **Application of Custom Functions**: Apply the custom functions developed in steps 4 and 5 to the dataset to calculate and visualize the performance metrics.\n",
    "\n",
    "7. **Comparison with Pre-built Functions**: Use scikit-learn's pre-built functions (such as confusion_matrix(), accuracy_score(), precision_score(), recall_score(), f1_score(), classification_report(), plot_roc_curve(), and auc()) to calculate the same metrics and compare these results with those obtained from the custom functions.\n",
    "\n",
    "8. **Analysis and Discussion**: Discuss how the results from the custom functions compare with those from the pre-built functions. This will involve analyzing any discrepancies and assessing the accuracy and effectiveness of the custom implementations."
   ]
  },
  {
   "cell_type": "code",
   "execution_count": 1,
   "id": "7924e0af",
   "metadata": {},
   "outputs": [],
   "source": [
    "# Libaries import\n",
    "import numpy as np # linear algebra\n",
    "import pandas as pd # data processing, CSV file I/O (e.g. pd.read_csv)\n",
    "import matplotlib.pyplot as plt\n",
    "import seaborn as sns\n",
    "from copy import copy"
   ]
  },
  {
   "cell_type": "markdown",
   "id": "ef2e4caf",
   "metadata": {},
   "source": [
    "# 2. Data Preparation"
   ]
  },
  {
   "cell_type": "code",
   "execution_count": 2,
   "id": "2884416d",
   "metadata": {},
   "outputs": [
    {
     "data": {
      "text/html": [
       "<div>\n",
       "<style scoped>\n",
       "    .dataframe tbody tr th:only-of-type {\n",
       "        vertical-align: middle;\n",
       "    }\n",
       "\n",
       "    .dataframe tbody tr th {\n",
       "        vertical-align: top;\n",
       "    }\n",
       "\n",
       "    .dataframe thead th {\n",
       "        text-align: right;\n",
       "    }\n",
       "</style>\n",
       "<table border=\"1\" class=\"dataframe\">\n",
       "  <thead>\n",
       "    <tr style=\"text-align: right;\">\n",
       "      <th></th>\n",
       "      <th>pregnant</th>\n",
       "      <th>glucose</th>\n",
       "      <th>diastolic</th>\n",
       "      <th>skinfold</th>\n",
       "      <th>insulin</th>\n",
       "      <th>bmi</th>\n",
       "      <th>pedigree</th>\n",
       "      <th>age</th>\n",
       "      <th>class</th>\n",
       "      <th>scored.class</th>\n",
       "      <th>scored.probability</th>\n",
       "    </tr>\n",
       "  </thead>\n",
       "  <tbody>\n",
       "    <tr>\n",
       "      <th>0</th>\n",
       "      <td>7</td>\n",
       "      <td>124</td>\n",
       "      <td>70</td>\n",
       "      <td>33</td>\n",
       "      <td>215</td>\n",
       "      <td>25.5</td>\n",
       "      <td>0.161</td>\n",
       "      <td>37</td>\n",
       "      <td>0</td>\n",
       "      <td>0</td>\n",
       "      <td>0.328452</td>\n",
       "    </tr>\n",
       "    <tr>\n",
       "      <th>1</th>\n",
       "      <td>2</td>\n",
       "      <td>122</td>\n",
       "      <td>76</td>\n",
       "      <td>27</td>\n",
       "      <td>200</td>\n",
       "      <td>35.9</td>\n",
       "      <td>0.483</td>\n",
       "      <td>26</td>\n",
       "      <td>0</td>\n",
       "      <td>0</td>\n",
       "      <td>0.273190</td>\n",
       "    </tr>\n",
       "    <tr>\n",
       "      <th>2</th>\n",
       "      <td>3</td>\n",
       "      <td>107</td>\n",
       "      <td>62</td>\n",
       "      <td>13</td>\n",
       "      <td>48</td>\n",
       "      <td>22.9</td>\n",
       "      <td>0.678</td>\n",
       "      <td>23</td>\n",
       "      <td>1</td>\n",
       "      <td>0</td>\n",
       "      <td>0.109660</td>\n",
       "    </tr>\n",
       "    <tr>\n",
       "      <th>3</th>\n",
       "      <td>1</td>\n",
       "      <td>91</td>\n",
       "      <td>64</td>\n",
       "      <td>24</td>\n",
       "      <td>0</td>\n",
       "      <td>29.2</td>\n",
       "      <td>0.192</td>\n",
       "      <td>21</td>\n",
       "      <td>0</td>\n",
       "      <td>0</td>\n",
       "      <td>0.055998</td>\n",
       "    </tr>\n",
       "    <tr>\n",
       "      <th>4</th>\n",
       "      <td>4</td>\n",
       "      <td>83</td>\n",
       "      <td>86</td>\n",
       "      <td>19</td>\n",
       "      <td>0</td>\n",
       "      <td>29.3</td>\n",
       "      <td>0.317</td>\n",
       "      <td>34</td>\n",
       "      <td>0</td>\n",
       "      <td>0</td>\n",
       "      <td>0.100491</td>\n",
       "    </tr>\n",
       "  </tbody>\n",
       "</table>\n",
       "</div>"
      ],
      "text/plain": [
       "   pregnant  glucose  diastolic  skinfold  insulin   bmi  pedigree  age  \\\n",
       "0         7      124         70        33      215  25.5     0.161   37   \n",
       "1         2      122         76        27      200  35.9     0.483   26   \n",
       "2         3      107         62        13       48  22.9     0.678   23   \n",
       "3         1       91         64        24        0  29.2     0.192   21   \n",
       "4         4       83         86        19        0  29.3     0.317   34   \n",
       "\n",
       "   class  scored.class  scored.probability  \n",
       "0      0             0            0.328452  \n",
       "1      0             0            0.273190  \n",
       "2      1             0            0.109660  \n",
       "3      0             0            0.055998  \n",
       "4      0             0            0.100491  "
      ]
     },
     "execution_count": 2,
     "metadata": {},
     "output_type": "execute_result"
    }
   ],
   "source": [
    "df = pd.read_csv(\"https://raw.githubusercontent.com/minjaelee0522/DAV6150/master/M5%20Classification%20Model%20Performance%20Metrics/M5_Data.csv\")\n",
    "df.head()"
   ]
  },
  {
   "cell_type": "code",
   "execution_count": 3,
   "id": "7cfaf66b",
   "metadata": {},
   "outputs": [
    {
     "data": {
      "text/plain": [
       "<bound method DataFrame.info of      pregnant  glucose  diastolic  skinfold  insulin   bmi  pedigree  age  \\\n",
       "0           7      124         70        33      215  25.5     0.161   37   \n",
       "1           2      122         76        27      200  35.9     0.483   26   \n",
       "2           3      107         62        13       48  22.9     0.678   23   \n",
       "3           1       91         64        24        0  29.2     0.192   21   \n",
       "4           4       83         86        19        0  29.3     0.317   34   \n",
       "..        ...      ...        ...       ...      ...   ...       ...  ...   \n",
       "176         5      123         74        40       77  34.1     0.269   28   \n",
       "177         4      146         78         0        0  38.5     0.520   67   \n",
       "178         8      188         78         0        0  47.9     0.137   43   \n",
       "179         9      120         72        22       56  20.8     0.733   48   \n",
       "180         0      102         86        17      105  29.3     0.695   27   \n",
       "\n",
       "     class  scored.class  scored.probability  \n",
       "0        0             0            0.328452  \n",
       "1        0             0            0.273190  \n",
       "2        1             0            0.109660  \n",
       "3        0             0            0.055998  \n",
       "4        0             0            0.100491  \n",
       "..     ...           ...                 ...  \n",
       "176      0             0            0.311420  \n",
       "177      1             1            0.707210  \n",
       "178      1             1            0.888277  \n",
       "179      0             0            0.422468  \n",
       "180      0             0            0.119981  \n",
       "\n",
       "[181 rows x 11 columns]>"
      ]
     },
     "execution_count": 3,
     "metadata": {},
     "output_type": "execute_result"
    }
   ],
   "source": [
    "df.info"
   ]
  },
  {
   "cell_type": "code",
   "execution_count": 4,
   "id": "629db7ec",
   "metadata": {},
   "outputs": [
    {
     "data": {
      "text/html": [
       "<div>\n",
       "<style scoped>\n",
       "    .dataframe tbody tr th:only-of-type {\n",
       "        vertical-align: middle;\n",
       "    }\n",
       "\n",
       "    .dataframe tbody tr th {\n",
       "        vertical-align: top;\n",
       "    }\n",
       "\n",
       "    .dataframe thead th {\n",
       "        text-align: right;\n",
       "    }\n",
       "</style>\n",
       "<table border=\"1\" class=\"dataframe\">\n",
       "  <thead>\n",
       "    <tr style=\"text-align: right;\">\n",
       "      <th></th>\n",
       "      <th>pregnant</th>\n",
       "      <th>glucose</th>\n",
       "      <th>diastolic</th>\n",
       "      <th>skinfold</th>\n",
       "      <th>insulin</th>\n",
       "      <th>bmi</th>\n",
       "      <th>pedigree</th>\n",
       "      <th>age</th>\n",
       "      <th>class</th>\n",
       "      <th>scored.class</th>\n",
       "      <th>scored.probability</th>\n",
       "    </tr>\n",
       "  </thead>\n",
       "  <tbody>\n",
       "    <tr>\n",
       "      <th>count</th>\n",
       "      <td>181.000000</td>\n",
       "      <td>181.000000</td>\n",
       "      <td>181.000000</td>\n",
       "      <td>181.000000</td>\n",
       "      <td>181.000000</td>\n",
       "      <td>181.000000</td>\n",
       "      <td>181.000000</td>\n",
       "      <td>181.000000</td>\n",
       "      <td>181.000000</td>\n",
       "      <td>181.000000</td>\n",
       "      <td>181.000000</td>\n",
       "    </tr>\n",
       "    <tr>\n",
       "      <th>mean</th>\n",
       "      <td>3.861878</td>\n",
       "      <td>118.303867</td>\n",
       "      <td>71.701657</td>\n",
       "      <td>19.801105</td>\n",
       "      <td>63.767956</td>\n",
       "      <td>31.577901</td>\n",
       "      <td>0.449641</td>\n",
       "      <td>33.314917</td>\n",
       "      <td>0.314917</td>\n",
       "      <td>0.176796</td>\n",
       "      <td>0.303726</td>\n",
       "    </tr>\n",
       "    <tr>\n",
       "      <th>std</th>\n",
       "      <td>3.236551</td>\n",
       "      <td>30.484084</td>\n",
       "      <td>11.802987</td>\n",
       "      <td>15.692326</td>\n",
       "      <td>88.734756</td>\n",
       "      <td>6.659935</td>\n",
       "      <td>0.284006</td>\n",
       "      <td>11.183582</td>\n",
       "      <td>0.465771</td>\n",
       "      <td>0.382554</td>\n",
       "      <td>0.231235</td>\n",
       "    </tr>\n",
       "    <tr>\n",
       "      <th>min</th>\n",
       "      <td>0.000000</td>\n",
       "      <td>57.000000</td>\n",
       "      <td>38.000000</td>\n",
       "      <td>0.000000</td>\n",
       "      <td>0.000000</td>\n",
       "      <td>19.400000</td>\n",
       "      <td>0.085000</td>\n",
       "      <td>21.000000</td>\n",
       "      <td>0.000000</td>\n",
       "      <td>0.000000</td>\n",
       "      <td>0.023228</td>\n",
       "    </tr>\n",
       "    <tr>\n",
       "      <th>25%</th>\n",
       "      <td>1.000000</td>\n",
       "      <td>99.000000</td>\n",
       "      <td>64.000000</td>\n",
       "      <td>0.000000</td>\n",
       "      <td>0.000000</td>\n",
       "      <td>26.300000</td>\n",
       "      <td>0.257000</td>\n",
       "      <td>24.000000</td>\n",
       "      <td>0.000000</td>\n",
       "      <td>0.000000</td>\n",
       "      <td>0.117024</td>\n",
       "    </tr>\n",
       "    <tr>\n",
       "      <th>50%</th>\n",
       "      <td>3.000000</td>\n",
       "      <td>112.000000</td>\n",
       "      <td>70.000000</td>\n",
       "      <td>22.000000</td>\n",
       "      <td>0.000000</td>\n",
       "      <td>31.600000</td>\n",
       "      <td>0.391000</td>\n",
       "      <td>30.000000</td>\n",
       "      <td>0.000000</td>\n",
       "      <td>0.000000</td>\n",
       "      <td>0.239994</td>\n",
       "    </tr>\n",
       "    <tr>\n",
       "      <th>75%</th>\n",
       "      <td>6.000000</td>\n",
       "      <td>136.000000</td>\n",
       "      <td>78.000000</td>\n",
       "      <td>32.000000</td>\n",
       "      <td>105.000000</td>\n",
       "      <td>36.000000</td>\n",
       "      <td>0.580000</td>\n",
       "      <td>41.000000</td>\n",
       "      <td>1.000000</td>\n",
       "      <td>0.000000</td>\n",
       "      <td>0.430926</td>\n",
       "    </tr>\n",
       "    <tr>\n",
       "      <th>max</th>\n",
       "      <td>15.000000</td>\n",
       "      <td>197.000000</td>\n",
       "      <td>104.000000</td>\n",
       "      <td>54.000000</td>\n",
       "      <td>543.000000</td>\n",
       "      <td>50.000000</td>\n",
       "      <td>2.288000</td>\n",
       "      <td>67.000000</td>\n",
       "      <td>1.000000</td>\n",
       "      <td>1.000000</td>\n",
       "      <td>0.946334</td>\n",
       "    </tr>\n",
       "  </tbody>\n",
       "</table>\n",
       "</div>"
      ],
      "text/plain": [
       "         pregnant     glucose   diastolic    skinfold     insulin         bmi  \\\n",
       "count  181.000000  181.000000  181.000000  181.000000  181.000000  181.000000   \n",
       "mean     3.861878  118.303867   71.701657   19.801105   63.767956   31.577901   \n",
       "std      3.236551   30.484084   11.802987   15.692326   88.734756    6.659935   \n",
       "min      0.000000   57.000000   38.000000    0.000000    0.000000   19.400000   \n",
       "25%      1.000000   99.000000   64.000000    0.000000    0.000000   26.300000   \n",
       "50%      3.000000  112.000000   70.000000   22.000000    0.000000   31.600000   \n",
       "75%      6.000000  136.000000   78.000000   32.000000  105.000000   36.000000   \n",
       "max     15.000000  197.000000  104.000000   54.000000  543.000000   50.000000   \n",
       "\n",
       "         pedigree         age       class  scored.class  scored.probability  \n",
       "count  181.000000  181.000000  181.000000    181.000000          181.000000  \n",
       "mean     0.449641   33.314917    0.314917      0.176796            0.303726  \n",
       "std      0.284006   11.183582    0.465771      0.382554            0.231235  \n",
       "min      0.085000   21.000000    0.000000      0.000000            0.023228  \n",
       "25%      0.257000   24.000000    0.000000      0.000000            0.117024  \n",
       "50%      0.391000   30.000000    0.000000      0.000000            0.239994  \n",
       "75%      0.580000   41.000000    1.000000      0.000000            0.430926  \n",
       "max      2.288000   67.000000    1.000000      1.000000            0.946334  "
      ]
     },
     "execution_count": 4,
     "metadata": {},
     "output_type": "execute_result"
    }
   ],
   "source": [
    "# Summary statistics for all numerical attributes\n",
    "df.describe()"
   ]
  },
  {
   "cell_type": "code",
   "execution_count": 5,
   "id": "664ab2a1",
   "metadata": {},
   "outputs": [
    {
     "data": {
      "text/plain": [
       "pregnant              0\n",
       "glucose               0\n",
       "diastolic             0\n",
       "skinfold              0\n",
       "insulin               0\n",
       "bmi                   0\n",
       "pedigree              0\n",
       "age                   0\n",
       "class                 0\n",
       "scored.class          0\n",
       "scored.probability    0\n",
       "dtype: int64"
      ]
     },
     "execution_count": 5,
     "metadata": {},
     "output_type": "execute_result"
    }
   ],
   "source": [
    "# Checking for missing values\n",
    "missing_values = df.isnull().sum()\n",
    "missing_values"
   ]
  },
  {
   "cell_type": "markdown",
   "id": "a70130b2",
   "metadata": {},
   "source": [
    "# 3. Confusion Matrix Calculation"
   ]
  },
  {
   "cell_type": "code",
   "execution_count": 6,
   "id": "f8a41ad7",
   "metadata": {},
   "outputs": [
    {
     "name": "stdout",
     "output_type": "stream",
     "text": [
      "Predicted    0   1\n",
      "Actual            \n",
      "0          119   5\n",
      "1           30  27\n",
      "\n",
      "Actual classification counts:\n",
      " 0    124\n",
      "1     57\n",
      "Name: class, dtype: int64\n",
      "\n",
      "Predicted classification counts:\n",
      " 0    149\n",
      "1     32\n",
      "Name: scored.class, dtype: int64\n"
     ]
    }
   ],
   "source": [
    "# Calculate the confusion matrix\n",
    "confusion_matrix = pd.crosstab(df['class'], df['scored.class'], rownames=['Actual'], colnames=['Predicted'])\n",
    "\n",
    "# Display the confusion matrix\n",
    "print(confusion_matrix)\n",
    "\n",
    "# Verify the matrix with value_counts for actual and predicted classifications\n",
    "print(\"\\nActual classification counts:\\n\", df['class'].value_counts())\n",
    "print(\"\\nPredicted classification counts:\\n\", df['scored.class'].value_counts())"
   ]
  },
  {
   "cell_type": "code",
   "execution_count": 7,
   "id": "7b3f637c",
   "metadata": {},
   "outputs": [
    {
     "data": {
      "image/png": "[encoded data removed]",
      "text/plain": [
       "<Figure size 576x432 with 1 Axes>"
      ]
     },
     "metadata": {
      "needs_background": "light"
     },
     "output_type": "display_data"
    }
   ],
   "source": [
    "# Create a heatmap for the confusion matrix\n",
    "plt.figure(figsize=(8, 6))\n",
    "sns.heatmap(confusion_matrix, annot=True, fmt='d', cmap='Blues', cbar=False)\n",
    "\n",
    "plt.title('Confusion Matrix')\n",
    "plt.xlabel('Predicted Label')\n",
    "plt.ylabel('Actual Label')\n",
    "plt.show()"
   ]
  },
  {
   "cell_type": "markdown",
   "id": "8a4b9380",
   "metadata": {},
   "source": [
    "From the confusion matrix, we can observe:\n",
    "* Rows represent the actual classifications, with '0' and '1' indicating the true negative and true positive instances, respectively.\n",
    "* Columns represent the predicted classifications, with '0' and '1' indicating the model's negative and positive predictions, respectively.\n",
    "\n",
    "The value_counts() for the class (actual classification) and scored.class (predicted classification) columns are:\n",
    "* Actual classification counts: 0 (124 instances), 1 (57 instances)\n",
    "* Predicted classification counts: 0 (149 instances), 1 (32 instances)"
   ]
  },
  {
   "cell_type": "markdown",
   "id": "2059144b",
   "metadata": {},
   "source": [
    "# 4. Extraction of Confusion Matrix Values"
   ]
  },
  {
   "cell_type": "code",
   "execution_count": 8,
   "id": "2e8c44cb",
   "metadata": {},
   "outputs": [
    {
     "data": {
      "text/plain": [
       "(119, 5, 30, 27)"
      ]
     },
     "execution_count": 8,
     "metadata": {},
     "output_type": "execute_result"
    }
   ],
   "source": [
    "# Extracting individual values from the confusion matrix\n",
    "true_negative = confusion_matrix.at[0, 0]\n",
    "false_positive = confusion_matrix.at[0, 1]\n",
    "false_negative = confusion_matrix.at[1, 0]\n",
    "true_positive = confusion_matrix.at[1, 1]\n",
    "\n",
    "# Saving each to individual variables\n",
    "TN = true_negative\n",
    "FP = false_positive\n",
    "FN = false_negative\n",
    "TP = true_positive\n",
    "\n",
    "(TN, FP, FN, TP)"
   ]
  },
  {
   "cell_type": "markdown",
   "id": "e9f4caf9",
   "metadata": {},
   "source": [
    "These counts align with the sums of the respective rows and columns in the confusion matrix, confirming our understanding of the matrix's structure. The matrix shows:\n",
    "* True Negatives (TN): 119 (Actual 0, Predicted 0)\n",
    "* False Positives (FP): 5 (Actual 0, Predicted 1)\n",
    "* False Negatives (FN): 30 (Actual 1, Predicted 0)\n",
    "* True Positives (TP): 27 (Actual 1, Predicted 1)\n",
    "\n",
    "This analysis helps us understand how well the model performs in terms of correctly and incorrectly classifying the observations."
   ]
  },
  {
   "cell_type": "markdown",
   "id": "7190eb13",
   "metadata": {},
   "source": [
    "# 5. Custom Metric Calculation Functions"
   ]
  },
  {
   "cell_type": "markdown",
   "id": "cd33a1ab",
   "metadata": {},
   "source": [
    "## 1. Accuracy"
   ]
  },
  {
   "cell_type": "code",
   "execution_count": 9,
   "id": "2a0408f6",
   "metadata": {},
   "outputs": [
    {
     "data": {
      "text/plain": [
       "0.8066298342541437"
      ]
     },
     "execution_count": 9,
     "metadata": {},
     "output_type": "execute_result"
    }
   ],
   "source": [
    "def calculate_accuracy(actual, predicted):\n",
    "    \"\"\"\n",
    "    Calculate the accuracy of binary classification predictions.\n",
    "\n",
    "    Parameters:\n",
    "    - actual: array-like, true labels of the data\n",
    "    - predicted: array-like, predicted labels of the data\n",
    "\n",
    "    Returns:\n",
    "    - accuracy: float, the accuracy of the predictions\n",
    "    \"\"\"\n",
    "    # Convert inputs to pandas series to ensure compatibility with indexing and operations\n",
    "    actual = pd.Series(actual)\n",
    "    predicted = pd.Series(predicted)\n",
    "    \n",
    "    # Calculate the number of correct predictions\n",
    "    correct_predictions = (actual == predicted).sum()\n",
    "    \n",
    "    # Calculate the total number of predictions\n",
    "    total_predictions = len(actual)\n",
    "    \n",
    "    # Calculate accuracy\n",
    "    accuracy = correct_predictions / total_predictions\n",
    "    \n",
    "    return accuracy\n",
    "\n",
    "# Calculate accuracy using the actual and predicted classifications from our dataset\n",
    "accuracy_our_data = calculate_accuracy(df['class'], df['scored.class'])\n",
    "accuracy_our_data"
   ]
  },
  {
   "cell_type": "markdown",
   "id": "3cd650b7",
   "metadata": {},
   "source": [
    "The accuracy of the binary classification predictions for our dataset, calculated using the custom function, is approximately 0.807. This means that about 80.7% of the predictions made by the classification model are correct."
   ]
  },
  {
   "cell_type": "markdown",
   "id": "de37a8df",
   "metadata": {},
   "source": [
    "## 2. Precision "
   ]
  },
  {
   "cell_type": "code",
   "execution_count": 10,
   "id": "9986ef5e",
   "metadata": {},
   "outputs": [
    {
     "data": {
      "text/plain": [
       "0.84375"
      ]
     },
     "execution_count": 10,
     "metadata": {},
     "output_type": "execute_result"
    }
   ],
   "source": [
    "def calculate_precision(TP, FP):\n",
    "    \"\"\"\n",
    "    Calculate the precision of binary classification predictions.\n",
    "\n",
    "    Parameters:\n",
    "    - TP: int, true positives\n",
    "    - FP: int, false positives\n",
    "\n",
    "    Returns:\n",
    "    - precision: float, the precision of the predictions\n",
    "    \"\"\"\n",
    "    # Calculate precision\n",
    "    if TP + FP == 0:  # To avoid division by zero\n",
    "        return 0\n",
    "    precision = TP / (TP + FP)\n",
    "    \n",
    "    return precision\n",
    "\n",
    "# Calculate precision using the True Positive and False Positive values from our data\n",
    "precision_our_data = calculate_precision(TP, FP)\n",
    "precision_our_data"
   ]
  },
  {
   "cell_type": "markdown",
   "id": "39edb9b6",
   "metadata": {},
   "source": [
    "\n",
    "The precision of the binary classification predictions for our dataset, calculated using the custom function, is approximately 0.844. This indicates that about 84.4% of the positive predictions made by the classification model are correct. "
   ]
  },
  {
   "cell_type": "markdown",
   "id": "9a89ae70",
   "metadata": {},
   "source": [
    "## 3. Sensitivity"
   ]
  },
  {
   "cell_type": "code",
   "execution_count": 11,
   "id": "d9eddf84",
   "metadata": {},
   "outputs": [
    {
     "data": {
      "text/plain": [
       "0.47368421052631576"
      ]
     },
     "execution_count": 11,
     "metadata": {},
     "output_type": "execute_result"
    }
   ],
   "source": [
    "def calculate_sensitivity(TP, FN):\n",
    "    \"\"\"\n",
    "    Calculate the sensitivity (recall) of binary classification predictions.\n",
    "\n",
    "    Parameters:\n",
    "    - TP: int, true positives\n",
    "    - FN: int, false negatives\n",
    "\n",
    "    Returns:\n",
    "    - sensitivity: float, the sensitivity of the predictions\n",
    "    \"\"\"\n",
    "    # Calculate sensitivity\n",
    "    if TP + FN == 0:  # To avoid division by zero\n",
    "        return 0\n",
    "    sensitivity = TP / (TP + FN)\n",
    "    \n",
    "    return sensitivity\n",
    "\n",
    "# Calculate sensitivity using the True Positive and False Negative values from our data\n",
    "sensitivity_our_data = calculate_sensitivity(TP, FN)\n",
    "sensitivity_our_data"
   ]
  },
  {
   "cell_type": "markdown",
   "id": "6b8eaf89",
   "metadata": {},
   "source": [
    "The sensitivity (also known as recall) of the binary classification predictions for our dataset, calculated using the custom function, is approximately 0.474. This means that the classification model correctly identifies about 47.4% of the actual positive instances. "
   ]
  },
  {
   "cell_type": "markdown",
   "id": "f270d3d7",
   "metadata": {},
   "source": [
    "## 4. Specificity"
   ]
  },
  {
   "cell_type": "code",
   "execution_count": 12,
   "id": "6945d280",
   "metadata": {},
   "outputs": [
    {
     "data": {
      "text/plain": [
       "0.9596774193548387"
      ]
     },
     "execution_count": 12,
     "metadata": {},
     "output_type": "execute_result"
    }
   ],
   "source": [
    "def calculate_specificity(TN, FP):\n",
    "    \"\"\"\n",
    "    Calculate the specificity of binary classification predictions.\n",
    "\n",
    "    Parameters:\n",
    "    - TN: int, true negatives\n",
    "    - FP: int, false positives\n",
    "\n",
    "    Returns:\n",
    "    - specificity: float, the specificity of the predictions\n",
    "    \"\"\"\n",
    "    # Calculate specificity\n",
    "    if TN + FP == 0:  # To avoid division by zero\n",
    "        return 0\n",
    "    specificity = TN / (TN + FP)\n",
    "    \n",
    "    return specificity\n",
    "\n",
    "# Calculate specificity using the True Negative and False Positive values from our data\n",
    "specificity_our_data = calculate_specificity(TN, FP)\n",
    "specificity_our_data"
   ]
  },
  {
   "cell_type": "markdown",
   "id": "77351bc9",
   "metadata": {},
   "source": [
    "The specificity of the binary classification predictions for our dataset, calculated using the custom function, is approximately 0.960. This indicates that the classification model correctly identifies about 96.0% of the actual negative instances."
   ]
  },
  {
   "cell_type": "markdown",
   "id": "8ec766e4",
   "metadata": {},
   "source": [
    "## 5. F1 Score"
   ]
  },
  {
   "cell_type": "code",
   "execution_count": 13,
   "id": "7d88984d",
   "metadata": {},
   "outputs": [
    {
     "data": {
      "text/plain": [
       "0.6067415730337079"
      ]
     },
     "execution_count": 13,
     "metadata": {},
     "output_type": "execute_result"
    }
   ],
   "source": [
    "def calculate_f1_score(TP, FP, FN):\n",
    "    \"\"\"\n",
    "    Calculate the F1 Score of binary classification predictions.\n",
    "\n",
    "    Parameters:\n",
    "    - TP: int, true positives\n",
    "    - FP: int, false positives\n",
    "    - FN: int, false negatives\n",
    "\n",
    "    Returns:\n",
    "    - f1_score: float, the F1 Score of the predictions\n",
    "    \"\"\"\n",
    "    # Calculate precision\n",
    "    precision = calculate_precision(TP, FP) if TP + FP > 0 else 0\n",
    "    \n",
    "    # Calculate sensitivity (recall)\n",
    "    sensitivity = calculate_sensitivity(TP, FN) if TP + FN > 0 else 0\n",
    "    \n",
    "    # Calculate F1 Score\n",
    "    if precision + sensitivity == 0:  # To avoid division by zero\n",
    "        return 0\n",
    "    f1_score = 2 * (precision * sensitivity) / (precision + sensitivity)\n",
    "    \n",
    "    return f1_score\n",
    "\n",
    "# Calculate F1 Score using the True Positive, False Positive, and False Negative values from our data\n",
    "f1_score_our_data = calculate_f1_score(TP, FP, FN)\n",
    "f1_score_our_data"
   ]
  },
  {
   "cell_type": "markdown",
   "id": "1e621f1c",
   "metadata": {},
   "source": [
    "The F1 Score of the binary classification predictions for our dataset, calculated using the custom function, is approximately 0.607. This score is a harmonic mean of precision and sensitivity (recall), indicating a balance between the model's ability to correctly identify positive instances and its overall correctness across all positive predictions."
   ]
  },
  {
   "cell_type": "markdown",
   "id": "8e196c42",
   "metadata": {},
   "source": [
    "# 6. ROC Curve and AUC Calculation Function"
   ]
  },
  {
   "cell_type": "code",
   "execution_count": 14,
   "id": "186e956c",
   "metadata": {},
   "outputs": [
    {
     "data": {
      "image/png": "[encoded data removed]",
      "text/plain": [
       "<Figure size 576x432 with 1 Axes>"
      ]
     },
     "metadata": {
      "needs_background": "light"
     },
     "output_type": "display_data"
    },
    {
     "data": {
      "text/plain": [
       "-0.8503112620260329"
      ]
     },
     "execution_count": 14,
     "metadata": {},
     "output_type": "execute_result"
    }
   ],
   "source": [
    "def plot_roc_curve_and_calculate_auc(actual, probabilities):\n",
    "    \"\"\"\n",
    "    Plot ROC curve and calculate AUC for binary classification data.\n",
    "\n",
    "    Parameters:\n",
    "    - actual: array-like, true labels of the data\n",
    "    - probabilities: array-like, predicted probabilities of the positive class\n",
    "\n",
    "    Returns:\n",
    "    - auc: float, Area Under the ROC Curve\n",
    "    \"\"\"\n",
    "    # Sort data by probabilities\n",
    "    sorted_indices = np.argsort(probabilities)\n",
    "    sorted_actual = np.array(actual)[sorted_indices]\n",
    "    sorted_probabilities = np.array(probabilities)[sorted_indices]\n",
    "\n",
    "    # Calculate TPR (Sensitivity) and FPR (1 - Specificity) at each threshold\n",
    "    tpr = []\n",
    "    fpr = []\n",
    "    thresholds = np.unique(sorted_probabilities)\n",
    "    \n",
    "    for threshold in thresholds:\n",
    "        predicted = (sorted_probabilities >= threshold).astype(int)\n",
    "        TP = ((predicted == 1) & (sorted_actual == 1)).sum()\n",
    "        FP = ((predicted == 1) & (sorted_actual == 0)).sum()\n",
    "        TN = ((predicted == 0) & (sorted_actual == 0)).sum()\n",
    "        FN = ((predicted == 0) & (sorted_actual == 1)).sum()\n",
    "\n",
    "        TPR = TP / (TP + FN) if TP + FN > 0 else 0\n",
    "        FPR = FP / (FP + TN) if FP + TN > 0 else 0\n",
    "        \n",
    "        tpr.append(TPR)\n",
    "        fpr.append(FPR)\n",
    "\n",
    "    # Calculate AUC using the Trapezoidal rule\n",
    "    auc = np.trapz(tpr, fpr)\n",
    "    \n",
    "    # Plot ROC curve\n",
    "    plt.figure(figsize=(8, 6))\n",
    "    plt.plot(fpr, tpr, marker='.', label='ROC Curve (area = %0.2f)' % auc)\n",
    "    plt.plot([0, 1], [0, 1], linestyle='--', label='Random Guess')\n",
    "    \n",
    "    plt.title('ROC Curve')\n",
    "    plt.xlabel('False Positive Rate')\n",
    "    plt.ylabel('True Positive Rate')\n",
    "    plt.legend()\n",
    "    plt.show()\n",
    "    \n",
    "    return auc\n",
    "\n",
    "# Plot ROC curve and calculate AUC using actual class and scored probabilities from our data\n",
    "auc_our_data = plot_roc_curve_and_calculate_auc(df['class'], df['scored.probability'])\n",
    "auc_our_data"
   ]
  },
  {
   "cell_type": "markdown",
   "id": "372f6407",
   "metadata": {},
   "source": [
    "The ROC curve for our dataset has been plotted, and the Area Under the Curve (AUC) was calculated to be approximately -0.85. This value is negative due to the order of False Positive Rate (FPR) and True Positive Rate (TPR) calculations in the integration process, which suggests an issue in the plotting sequence or the calculation method.\n",
    "\n",
    "Typically, AUC values range from 0 to 1, where a value closer to 1 indicates a better model performance. The negative value here is a result of the calculation method and the order of FPR and TPR values. To correct this and obtain a meaningful AUC value, one should ensure the FPR values are increasing when performing the integration for AUC calculation. This can be achieved by revising the sorting or integration direction in the calculation.\n",
    "\n",
    "The intention behind the ROC curve and AUC calculation is to assess the model's performance in distinguishing between the two classes. A properly calculated AUC provides a single measure of overall model performance across all classification thresholds, which is especially useful for comparing different models."
   ]
  },
  {
   "cell_type": "markdown",
   "id": "43d2a60c",
   "metadata": {},
   "source": [
    "# 7. Application of Custom Functions"
   ]
  },
  {
   "cell_type": "code",
   "execution_count": 15,
   "id": "2aed6225",
   "metadata": {},
   "outputs": [
    {
     "data": {
      "text/plain": [
       "{'Accuracy': 0.8066298342541437,\n",
       " 'Precision': 0.84375,\n",
       " 'Sensitivity': 0.47368421052631576,\n",
       " 'Specificity': 0.9596774193548387,\n",
       " 'F1 Score': 0.6067415730337079}"
      ]
     },
     "execution_count": 15,
     "metadata": {},
     "output_type": "execute_result"
    }
   ],
   "source": [
    "# Apply the previously defined functions to calculate the metrics for our dataset\n",
    "\n",
    "# We already have TP, FP, TN, FN values, so we'll reuse those for precision, sensitivity, specificity, and F1 Score calculations\n",
    "precision = calculate_precision(TP, FP)\n",
    "sensitivity = calculate_sensitivity(TP, FN)\n",
    "specificity = calculate_specificity(TN, FP)\n",
    "f1_score = calculate_f1_score(TP, FP, FN)\n",
    "\n",
    "# Reusing the accuracy calculation with the actual 'class' and 'scored.class' columns from our data\n",
    "accuracy = calculate_accuracy(df['class'], df['scored.class'])\n",
    "\n",
    "(metrics_dict := {\n",
    "    \"Accuracy\": accuracy,\n",
    "    \"Precision\": precision,\n",
    "    \"Sensitivity\": sensitivity,\n",
    "    \"Specificity\": specificity,\n",
    "    \"F1 Score\": f1_score\n",
    "})"
   ]
  },
  {
   "cell_type": "markdown",
   "id": "2625883a",
   "metadata": {},
   "source": [
    "The classification metrics calculated using the custom Python functions for our dataset are as follows:\n",
    "* Accuracy: 0.807\n",
    "* Precision: 0.844\n",
    "* Sensitivity: 0.474\n",
    "* Specificity: 0.960\n",
    "* F1 Score: 0.607\n",
    "\n",
    "These metrics provide a comprehensive overview of the model's performance, indicating its overall accuracy, its precision in identifying positive instances, its sensitivity in detecting actual positives, its specificity in identifying negatives correctly, and the F1 Score, which balances precision and sensitivity. ​"
   ]
  },
  {
   "cell_type": "markdown",
   "id": "ad23a59c",
   "metadata": {},
   "source": [
    "# 8. Comparison with Pre-built Functions"
   ]
  },
  {
   "cell_type": "code",
   "execution_count": 16,
   "id": "4ead473b",
   "metadata": {},
   "outputs": [
    {
     "data": {
      "text/plain": [
       "{'Confusion Matrix': array([[119,   5],\n",
       "        [ 30,  27]]),\n",
       " 'Accuracy': 0.8066298342541437,\n",
       " 'Precision': 0.84375,\n",
       " 'Sensitivity (Recall)': 0.47368421052631576,\n",
       " 'F1 Score': 0.6067415730337079}"
      ]
     },
     "execution_count": 16,
     "metadata": {},
     "output_type": "execute_result"
    }
   ],
   "source": [
    "from sklearn.metrics import confusion_matrix, accuracy_score, precision_score, recall_score, f1_score, classification_report\n",
    "\n",
    "# Calculate metrics using scikit-learn's pre-built functions\n",
    "sklearn_confusion_matrix = confusion_matrix(df['class'], df['scored.class'])\n",
    "sklearn_accuracy = accuracy_score(df['class'], df['scored.class'])\n",
    "sklearn_precision = precision_score(df['class'], df['scored.class'])\n",
    "sklearn_recall = recall_score(df['class'], df['scored.class'])  # recall is the same as sensitivity\n",
    "sklearn_f1 = f1_score(df['class'], df['scored.class'])\n",
    "sklearn_classification_report = classification_report(df['class'], df['scored.class'])\n",
    "\n",
    "# Display the results\n",
    "(sklearn_metrics_dict := {\n",
    "    \"Confusion Matrix\": sklearn_confusion_matrix,\n",
    "    \"Accuracy\": sklearn_accuracy,\n",
    "    \"Precision\": sklearn_precision,\n",
    "    \"Sensitivity (Recall)\": sklearn_recall,\n",
    "    \"F1 Score\": sklearn_f1\n",
    "})"
   ]
  },
  {
   "cell_type": "code",
   "execution_count": 20,
   "id": "e21b2427",
   "metadata": {},
   "outputs": [
    {
     "name": "stdout",
     "output_type": "stream",
     "text": [
      "              precision    recall  f1-score   support\n",
      "\n",
      "           0       0.80      0.96      0.87       124\n",
      "           1       0.84      0.47      0.61        57\n",
      "\n",
      "    accuracy                           0.81       181\n",
      "   macro avg       0.82      0.72      0.74       181\n",
      "weighted avg       0.81      0.81      0.79       181\n",
      "\n"
     ]
    },
    {
     "data": {
      "text/plain": [
       "('Classification Report:', None)"
      ]
     },
     "execution_count": 20,
     "metadata": {},
     "output_type": "execute_result"
    }
   ],
   "source": [
    "\"Classification Report:\", print(sklearn_classification_report)"
   ]
  },
  {
   "cell_type": "markdown",
   "id": "80482170",
   "metadata": {},
   "source": [
    "* Class 0:\n",
    "- Precision: 0.80 - When the model predicts class 0, it is correct 80% of the time.\n",
    "- Recall: 0.96 - The model correctly identifies 96% of all actual class 0 instances.\n",
    "- F1-Score: 0.87 - The balance between precision and recall for class 0 is 0.87, indicating high performance for class 0.\n",
    "- Support: 124 - There are 124 instances of class 0 in the dataset.\n",
    "\n",
    "* Class 1:\n",
    "- Precision: 0.84 - When the model predicts class 1, it is correct 84% of the time.\n",
    "- Recall: 0.47 - The model correctly identifies 47% of all actual class 1 instances.\n",
    "- F1-Score: 0.61 - The balance between precision and recall for class 1 is 0.61, which is lower compared to class 0, indicating room for improvement in identifying class 1 instances.\n",
    "- Support: 57 - There are 57 instances of class 1 in the dataset.\n",
    "\n",
    "* Overall Metrics:\n",
    "- Accuracy: 0.81 - Overall, the model correctly predicts the class 81% of the time across all instances.\n",
    "- Macro Average:\n",
    "    - Precision: 0.82 - The average precision across both classes.\n",
    "    - Recall: 0.72 - The average recall across both classes.\n",
    "    - F1-Score: 0.74 - The average F1-score across both classes.\n",
    "- Weighted Average:\n",
    "    - Precision: 0.81 - Precision averaged by the number of instances in each class.\n",
    "    - Recall: 0.81 - Recall averaged by the number of instances in each class.\n",
    "    - F1-Score: 0.79 - F1-score averaged by the number of instances in each class.\n",
    "\n",
    "The classification report suggests that the model performs well in identifying class 0 but has a significantly lower recall for class 1, meaning it misses a number of actual class 1 instances. This could be indicative of a class imbalance or model bias toward class 0. The macro average is influenced equally by the performance on both classes, while the weighted average takes the class distribution into account, which is why the weighted averages are closer to the metrics for class 0, the more prevalent class."
   ]
  },
  {
   "cell_type": "markdown",
   "id": "f5a2acca",
   "metadata": {},
   "source": [
    "# 9. Analysis and Discussion"
   ]
  },
  {
   "cell_type": "code",
   "execution_count": 19,
   "id": "0c1a0ab1",
   "metadata": {},
   "outputs": [
    {
     "data": {
      "text/plain": [
       "0.6934984520123839"
      ]
     },
     "execution_count": 19,
     "metadata": {},
     "output_type": "execute_result"
    },
    {
     "data": {
      "image/png": "[encoded data removed]",
      "text/plain": [
       "<Figure size 432x288 with 1 Axes>"
      ]
     },
     "metadata": {
      "needs_background": "light"
     },
     "output_type": "display_data"
    }
   ],
   "source": [
    "from sklearn.metrics import roc_curve, auc, RocCurveDisplay\n",
    "from sklearn.model_selection import train_test_split\n",
    "from sklearn.linear_model import LogisticRegression\n",
    "\n",
    "# Splitting the data into train and test to fit a model as sklearn's plot_roc_curve requires a fitted model object\n",
    "X_train, X_test, y_train, y_test = train_test_split(df.drop(columns=['class', 'scored.class', 'scored.probability']), df['class'], test_size=0.3, random_state=42)\n",
    "\n",
    "# Fit a simple logistic regression model\n",
    "model = LogisticRegression(max_iter=1000)\n",
    "model.fit(X_train, y_train)\n",
    "\n",
    "# Generate ROC curve values\n",
    "fpr, tpr, thresholds = roc_curve(y_test, model.predict_proba(X_test)[:, 1])\n",
    "\n",
    "# Calculate AUC\n",
    "roc_auc = auc(fpr, tpr)\n",
    "\n",
    "# Plot ROC curve\n",
    "RocCurveDisplay(fpr=fpr, tpr=tpr, roc_auc=roc_auc, estimator_name='Example Model').plot()\n",
    "\n",
    "roc_auc"
   ]
  },
  {
   "cell_type": "markdown",
   "id": "e3e7bdec",
   "metadata": {},
   "source": [
    "A ROC plot has been generated and the Area Under the Curve (AUC) has been calculated using scikit-learn's roc_curve, auc, and RocCurveDisplay functions after fitting a Logistic Regression model. The AUC obtained is approximately 0.694.\n",
    "\n",
    "To compare this with the results from the custom ROC/AUC function created earlier in the assignment, we would need the AUC value calculated by that custom function. Since the custom function should ideally compute the AUC based on the true positive and false positive rates across various threshold levels, the result should be comparable to the AUC obtained using scikit-learn's function if the same data and thresholds are used.\n",
    "\n",
    "The custom function directly used the actual and predicted values along with the scored probabilities to compute the ROC curve and AUC, which should typically result in a positive AUC value between 0 and 1, where a value closer to 1 indicates a better-performing model.\n",
    "\n",
    "The AUC value of 0.694 indicates moderate discriminative ability of the logistic regression model for the task. For a more accurate comparison, the issue with the custom function needs to be resolved so that it correctly computes the AUC. Once corrected, the custom function's AUC value should be close to the value obtained from scikit-learn if the data and methodology are consistent."
   ]
  }
 ],
 "metadata": {
  "kernelspec": {
   "display_name": "Python 3 (ipykernel)",
   "language": "python",
   "name": "python3"
  },
  "language_info": {
   "codemirror_mode": {
    "name": "ipython",
    "version": 3
   },
   "file_extension": ".py",
   "mimetype": "text/x-python",
   "name": "python",
   "nbconvert_exporter": "python",
   "pygments_lexer": "ipython3",
   "version": "3.9.7"
  }
 },
 "nbformat": 4,
 "nbformat_minor": 5
}
